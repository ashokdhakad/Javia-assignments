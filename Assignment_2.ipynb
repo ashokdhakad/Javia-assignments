{
  "nbformat": 4,
  "nbformat_minor": 0,
  "metadata": {
    "kernelspec": {
      "display_name": "Python 3",
      "language": "python",
      "name": "python3"
    },
    "language_info": {
      "codemirror_mode": {
        "name": "ipython",
        "version": 3
      },
      "file_extension": ".py",
      "mimetype": "text/x-python",
      "name": "python",
      "nbconvert_exporter": "python",
      "pygments_lexer": "ipython3",
      "version": "3.7.3"
    },
    "colab": {
      "name": "Assignment-2.ipynb",
      "provenance": [],
      "include_colab_link": true
    }
  },
  "cells": [
    {
      "cell_type": "markdown",
      "metadata": {
        "id": "view-in-github",
        "colab_type": "text"
      },
      "source": [
        "<a href=\"https://colab.research.google.com/github/ashokdhakad/Javia-assignments/blob/master/Assignment_2.ipynb\" target=\"_parent\"><img src=\"https://colab.research.google.com/assets/colab-badge.svg\" alt=\"Open In Colab\"/></a>"
      ]
    },
    {
      "cell_type": "code",
      "metadata": {
        "ExecuteTime": {
          "end_time": "2020-12-11T15:31:38.507053Z",
          "start_time": "2020-12-11T15:31:31.893913Z"
        },
        "id": "UDX7sGxHDBEO",
        "outputId": "50ec228b-00f9-4595-c690-a0d0d102a292"
      },
      "source": [
        "# Jovian Commit Essentials\n",
        "# Please retain and execute this cell without modifying the contents for `jovian.commit` to work\n",
        "!pip install jovian --upgrade -q\n",
        "import jovian"
      ],
      "execution_count": null,
      "outputs": [
        {
          "output_type": "stream",
          "text": [
            "WARNING: pip is being invoked by an old script wrapper. This will fail in a future version of pip.\n",
            "Please see https://github.com/pypa/pip/issues/5599 for advice on fixing the underlying issue.\n",
            "To avoid this problem you can invoke Python with '-m pip' instead of running pip directly.\n"
          ],
          "name": "stderr"
        }
      ]
    },
    {
      "cell_type": "markdown",
      "metadata": {
        "id": "EmTvy40iDBEz"
      },
      "source": [
        "# Insurance cost prediction using linear regression\n",
        "\n",
        "Make a submisson here: https://jovian.ai/learn/deep-learning-with-pytorch-zero-to-gans/assignment/assignment-2-train-your-first-model\n",
        "\n",
        "In this assignment we're going to use information like a person's age, sex, BMI, no. of children and smoking habit to predict the price of yearly medical bills. This kind of model is useful for insurance companies to determine the yearly insurance premium for a person. The dataset for this problem is taken from [Kaggle](https://www.kaggle.com/mirichoi0218/insurance).\n",
        "\n",
        "\n",
        "We will create a model with the following steps:\n",
        "1. Download and explore the dataset\n",
        "2. Prepare the dataset for training\n",
        "3. Create a linear regression model\n",
        "4. Train the model to fit the data\n",
        "5. Make predictions using the trained model\n",
        "\n",
        "\n",
        "This assignment builds upon the concepts from the first 2 lessons. It will help to review these Jupyter notebooks:\n",
        "- PyTorch basics: https://jovian.ai/aakashns/01-pytorch-basics\n",
        "- Linear Regression: https://jovian.ai/aakashns/02-linear-regression\n",
        "- Logistic Regression: https://jovian.ai/aakashns/03-logistic-regression\n",
        "- Linear regression (minimal): https://jovian.ai/aakashns/housing-linear-minimal\n",
        "- Logistic regression (minimal): https://jovian.ai/aakashns/mnist-logistic-minimal\n",
        "\n",
        "As you go through this notebook, you will find a **???** in certain places. Your job is to replace the **???** with appropriate code or values, to ensure that the notebook runs properly end-to-end . In some cases, you'll be required to choose some hyperparameters (learning rate, batch size etc.). Try to experiment with the hypeparameters to get the lowest loss.\n"
      ]
    },
    {
      "cell_type": "code",
      "metadata": {
        "ExecuteTime": {
          "end_time": "2020-12-11T15:33:35.349119Z",
          "start_time": "2020-12-11T15:33:31.078229Z"
        },
        "id": "-fY47PSZDBE1",
        "outputId": "c1c6a38d-046d-46c5-f083-5f25397dc54c"
      },
      "source": [
        "# Uncomment and run the appropriate command for your operating system, if required\n",
        "\n",
        "# Linux / Binder\n",
        "# !pip install numpy matplotlib pandas torch==1.7.0+cpu torchvision==0.8.1+cpu torchaudio==0.7.0 -f https://download.pytorch.org/whl/torch_stable.html\n",
        "\n",
        "# Windows\n",
        "!pip install numpy matplotlib pandas torch==1.7.0+cpu torchvision==0.8.1+cpu torchaudio==0.7.0 -f https://download.pytorch.org/whl/torch_stable.html\n",
        "\n",
        "# MacOS\n",
        "# !pip install numpy matplotlib pandas torch torchvision torchaudio"
      ],
      "execution_count": null,
      "outputs": [
        {
          "output_type": "stream",
          "text": [
            "Looking in links: https://download.pytorch.org/whl/torch_stable.html\n",
            "Requirement already satisfied: numpy in c:\\programdata\\anaconda3\\lib\\site-packages (1.16.4)\n",
            "Requirement already satisfied: matplotlib in c:\\programdata\\anaconda3\\lib\\site-packages (3.1.0)\n",
            "Requirement already satisfied: pandas in c:\\programdata\\anaconda3\\lib\\site-packages (0.24.2)\n",
            "Requirement already satisfied: torch==1.7.0+cpu in c:\\programdata\\anaconda3\\lib\\site-packages (1.7.0+cpu)\n",
            "Requirement already satisfied: torchvision==0.8.1+cpu in c:\\programdata\\anaconda3\\lib\\site-packages (0.8.1+cpu)\n",
            "Requirement already satisfied: torchaudio==0.7.0 in c:\\programdata\\anaconda3\\lib\\site-packages (0.7.0)\n",
            "Requirement already satisfied: cycler>=0.10 in c:\\programdata\\anaconda3\\lib\\site-packages (from matplotlib) (0.10.0)\n",
            "Requirement already satisfied: kiwisolver>=1.0.1 in c:\\programdata\\anaconda3\\lib\\site-packages (from matplotlib) (1.1.0)\n",
            "Requirement already satisfied: pyparsing!=2.0.4,!=2.1.2,!=2.1.6,>=2.0.1 in c:\\programdata\\anaconda3\\lib\\site-packages (from matplotlib) (2.4.0)\n",
            "Requirement already satisfied: python-dateutil>=2.1 in c:\\programdata\\anaconda3\\lib\\site-packages (from matplotlib) (2.8.0)\n",
            "Requirement already satisfied: numpy in c:\\programdata\\anaconda3\\lib\\site-packages (1.16.4)\n",
            "Requirement already satisfied: numpy in c:\\programdata\\anaconda3\\lib\\site-packages (1.16.4)\n",
            "Requirement already satisfied: pytz>=2011k in c:\\users\\abc\\appdata\\roaming\\python\\python37\\site-packages (from pandas) (2018.3)\n",
            "Requirement already satisfied: python-dateutil>=2.1 in c:\\programdata\\anaconda3\\lib\\site-packages (from matplotlib) (2.8.0)\n",
            "Requirement already satisfied: numpy in c:\\programdata\\anaconda3\\lib\\site-packages (1.16.4)\n",
            "Requirement already satisfied: dataclasses in c:\\programdata\\anaconda3\\lib\\site-packages (from torch==1.7.0+cpu) (0.6)\n",
            "Requirement already satisfied: future in c:\\programdata\\anaconda3\\lib\\site-packages (from torch==1.7.0+cpu) (0.17.1)\n",
            "Requirement already satisfied: typing-extensions in c:\\programdata\\anaconda3\\lib\\site-packages (from torch==1.7.0+cpu) (3.7.4.3)\n",
            "Requirement already satisfied: torch==1.7.0+cpu in c:\\programdata\\anaconda3\\lib\\site-packages (1.7.0+cpu)\n",
            "Requirement already satisfied: numpy in c:\\programdata\\anaconda3\\lib\\site-packages (1.16.4)\n",
            "Requirement already satisfied: pillow>=4.1.1 in c:\\users\\abc\\appdata\\roaming\\python\\python37\\site-packages (from torchvision==0.8.1+cpu) (5.1.0)\n",
            "Requirement already satisfied: torch==1.7.0+cpu in c:\\programdata\\anaconda3\\lib\\site-packages (1.7.0+cpu)\n",
            "Requirement already satisfied: six in c:\\programdata\\anaconda3\\lib\\site-packages (from cycler>=0.10->matplotlib) (1.12.0)\n",
            "Requirement already satisfied: setuptools in c:\\programdata\\anaconda3\\lib\\site-packages (from kiwisolver>=1.0.1->matplotlib) (41.0.1)\n",
            "Requirement already satisfied: six in c:\\programdata\\anaconda3\\lib\\site-packages (from cycler>=0.10->matplotlib) (1.12.0)\n"
          ],
          "name": "stdout"
        },
        {
          "output_type": "stream",
          "text": [
            "WARNING: pip is being invoked by an old script wrapper. This will fail in a future version of pip.\n",
            "Please see https://github.com/pypa/pip/issues/5599 for advice on fixing the underlying issue.\n",
            "To avoid this problem you can invoke Python with '-m pip' instead of running pip directly.\n"
          ],
          "name": "stderr"
        }
      ]
    },
    {
      "cell_type": "code",
      "metadata": {
        "ExecuteTime": {
          "end_time": "2020-12-11T15:34:14.576096Z",
          "start_time": "2020-12-11T15:33:53.099455Z"
        },
        "id": "ir5DrSxvDBE3"
      },
      "source": [
        "import torch\n",
        "import jovian\n",
        "import torchvision\n",
        "import torch.nn as nn\n",
        "import pandas as pd\n",
        "import matplotlib.pyplot as plt\n",
        "import torch.nn.functional as F\n",
        "from torchvision.datasets.utils import download_url\n",
        "from torch.utils.data import DataLoader, TensorDataset, random_split"
      ],
      "execution_count": null,
      "outputs": []
    },
    {
      "cell_type": "code",
      "metadata": {
        "ExecuteTime": {
          "end_time": "2020-12-11T15:34:57.963405Z",
          "start_time": "2020-12-11T15:34:57.958406Z"
        },
        "id": "tXAfXPdUDBE4"
      },
      "source": [
        "project_name=\"Assignment-2\" #will be used by jovian.commit"
      ],
      "execution_count": null,
      "outputs": []
    },
    {
      "cell_type": "markdown",
      "metadata": {
        "id": "fQQ32Sg_DBE5"
      },
      "source": [
        "## Step 1: Download and explore the data\n",
        "\n",
        "Let us begin by downloading the data. We'll use the `download_url` function from PyTorch to get the data as a CSV (comma-separated values) file. "
      ]
    },
    {
      "cell_type": "code",
      "metadata": {
        "ExecuteTime": {
          "end_time": "2020-12-11T15:39:21.986451Z",
          "start_time": "2020-12-11T15:39:21.978455Z"
        },
        "id": "oMY94r9aDBE5",
        "outputId": "46d77961-eb44-4966-ad2e-1900a3dd4e4f"
      },
      "source": [
        "DATASET_URL = \"https://hub.jovian.ml/wp-content/uploads/2020/05/insurance.csv\"\n",
        "DATA_FILENAME = \"insurance.csv\"\n",
        "download_url(DATASET_URL, '.')"
      ],
      "execution_count": null,
      "outputs": [
        {
          "output_type": "stream",
          "text": [
            "Using downloaded and verified file: .\\insurance.csv\n"
          ],
          "name": "stdout"
        }
      ]
    },
    {
      "cell_type": "markdown",
      "metadata": {
        "id": "j0Njy2WxDBE8"
      },
      "source": [
        "To load the dataset into memory, we'll use the `read_csv` function from the `pandas` library. The data will be loaded as a Pandas dataframe. See this short tutorial to learn more: https://data36.com/pandas-tutorial-1-basics-reading-data-files-dataframes-data-selection/"
      ]
    },
    {
      "cell_type": "code",
      "metadata": {
        "ExecuteTime": {
          "end_time": "2020-12-11T15:40:17.943259Z",
          "start_time": "2020-12-11T15:40:17.543089Z"
        },
        "scrolled": true,
        "id": "aCYCL7aiDBE-",
        "outputId": "089a515c-b984-4eb4-c2af-ac34ab583aac"
      },
      "source": [
        "dataframe_raw = pd.read_csv(DATA_FILENAME)\n",
        "dataframe_raw.head()"
      ],
      "execution_count": null,
      "outputs": [
        {
          "output_type": "execute_result",
          "data": {
            "text/html": [
              "<div>\n",
              "<style scoped>\n",
              "    .dataframe tbody tr th:only-of-type {\n",
              "        vertical-align: middle;\n",
              "    }\n",
              "\n",
              "    .dataframe tbody tr th {\n",
              "        vertical-align: top;\n",
              "    }\n",
              "\n",
              "    .dataframe thead th {\n",
              "        text-align: right;\n",
              "    }\n",
              "</style>\n",
              "<table border=\"1\" class=\"dataframe\">\n",
              "  <thead>\n",
              "    <tr style=\"text-align: right;\">\n",
              "      <th></th>\n",
              "      <th>age</th>\n",
              "      <th>sex</th>\n",
              "      <th>bmi</th>\n",
              "      <th>children</th>\n",
              "      <th>smoker</th>\n",
              "      <th>region</th>\n",
              "      <th>charges</th>\n",
              "    </tr>\n",
              "  </thead>\n",
              "  <tbody>\n",
              "    <tr>\n",
              "      <th>0</th>\n",
              "      <td>19</td>\n",
              "      <td>female</td>\n",
              "      <td>27.900</td>\n",
              "      <td>0</td>\n",
              "      <td>yes</td>\n",
              "      <td>southwest</td>\n",
              "      <td>16884.92400</td>\n",
              "    </tr>\n",
              "    <tr>\n",
              "      <th>1</th>\n",
              "      <td>18</td>\n",
              "      <td>male</td>\n",
              "      <td>33.770</td>\n",
              "      <td>1</td>\n",
              "      <td>no</td>\n",
              "      <td>southeast</td>\n",
              "      <td>1725.55230</td>\n",
              "    </tr>\n",
              "    <tr>\n",
              "      <th>2</th>\n",
              "      <td>28</td>\n",
              "      <td>male</td>\n",
              "      <td>33.000</td>\n",
              "      <td>3</td>\n",
              "      <td>no</td>\n",
              "      <td>southeast</td>\n",
              "      <td>4449.46200</td>\n",
              "    </tr>\n",
              "    <tr>\n",
              "      <th>3</th>\n",
              "      <td>33</td>\n",
              "      <td>male</td>\n",
              "      <td>22.705</td>\n",
              "      <td>0</td>\n",
              "      <td>no</td>\n",
              "      <td>northwest</td>\n",
              "      <td>21984.47061</td>\n",
              "    </tr>\n",
              "    <tr>\n",
              "      <th>4</th>\n",
              "      <td>32</td>\n",
              "      <td>male</td>\n",
              "      <td>28.880</td>\n",
              "      <td>0</td>\n",
              "      <td>no</td>\n",
              "      <td>northwest</td>\n",
              "      <td>3866.85520</td>\n",
              "    </tr>\n",
              "  </tbody>\n",
              "</table>\n",
              "</div>"
            ],
            "text/plain": [
              "   age     sex     bmi  children smoker     region      charges\n",
              "0   19  female  27.900         0    yes  southwest  16884.92400\n",
              "1   18    male  33.770         1     no  southeast   1725.55230\n",
              "2   28    male  33.000         3     no  southeast   4449.46200\n",
              "3   33    male  22.705         0     no  northwest  21984.47061\n",
              "4   32    male  28.880         0     no  northwest   3866.85520"
            ]
          },
          "metadata": {
            "tags": []
          },
          "execution_count": 10
        }
      ]
    },
    {
      "cell_type": "markdown",
      "metadata": {
        "id": "Ou_VJwwIDBFA"
      },
      "source": [
        "We're going to do a slight customization of the data,so that you every participant receives a slightly different version of the dataset.Fill in your name below as a string (enter at least 5 characters)"
      ]
    },
    {
      "cell_type": "code",
      "metadata": {
        "ExecuteTime": {
          "end_time": "2020-12-11T17:32:16.945922Z",
          "start_time": "2020-12-11T17:32:16.927933Z"
        },
        "id": "ip9LdnrwDBFB"
      },
      "source": [
        "your_name=\"Ashok\" #at least 5 characters\n"
      ],
      "execution_count": null,
      "outputs": []
    },
    {
      "cell_type": "markdown",
      "metadata": {
        "id": "_4xFBvMqDBFB"
      },
      "source": [
        "The `customize_dataset` function will customize the dataset slightly using your name as a source of random numbers."
      ]
    },
    {
      "cell_type": "code",
      "metadata": {
        "ExecuteTime": {
          "end_time": "2020-12-11T17:32:43.635431Z",
          "start_time": "2020-12-11T17:32:43.613445Z"
        },
        "id": "Z6AHsOg_DBFC"
      },
      "source": [
        "def customize_dataset(dataframe_raw, rand_str):\n",
        "    dataframe = dataframe_raw.copy(deep=True)\n",
        "    # drop some rows\n",
        "    dataframe = dataframe.sample(int(0.95*len(dataframe)), random_state=int(ord(rand_str[0])))\n",
        "    # scale input\n",
        "    dataframe.bmi = dataframe.bmi * ord(rand_str[1])/100.\n",
        "    # scale target\n",
        "    dataframe.charges = dataframe.charges * ord(rand_str[2])/100.\n",
        "    # drop column\n",
        "    if ord(rand_str[3]) % 2 == 1:\n",
        "        dataframe = dataframe.drop(['region'], axis=1)\n",
        "    return dataframe"
      ],
      "execution_count": null,
      "outputs": []
    },
    {
      "cell_type": "code",
      "metadata": {
        "ExecuteTime": {
          "end_time": "2020-12-11T17:32:56.030359Z",
          "start_time": "2020-12-11T17:32:55.756675Z"
        },
        "id": "vwtJup-SDBFD",
        "outputId": "b463fb20-7691-40a5-ecd9-9627c1107e12"
      },
      "source": [
        "dataframe = customize_dataset(dataframe_raw, your_name)\n",
        "dataframe.head()"
      ],
      "execution_count": null,
      "outputs": [
        {
          "output_type": "execute_result",
          "data": {
            "text/html": [
              "<div>\n",
              "<style scoped>\n",
              "    .dataframe tbody tr th:only-of-type {\n",
              "        vertical-align: middle;\n",
              "    }\n",
              "\n",
              "    .dataframe tbody tr th {\n",
              "        vertical-align: top;\n",
              "    }\n",
              "\n",
              "    .dataframe thead th {\n",
              "        text-align: right;\n",
              "    }\n",
              "</style>\n",
              "<table border=\"1\" class=\"dataframe\">\n",
              "  <thead>\n",
              "    <tr style=\"text-align: right;\">\n",
              "      <th></th>\n",
              "      <th>age</th>\n",
              "      <th>sex</th>\n",
              "      <th>bmi</th>\n",
              "      <th>children</th>\n",
              "      <th>smoker</th>\n",
              "      <th>charges</th>\n",
              "    </tr>\n",
              "  </thead>\n",
              "  <tbody>\n",
              "    <tr>\n",
              "      <th>27</th>\n",
              "      <td>55</td>\n",
              "      <td>female</td>\n",
              "      <td>37.69125</td>\n",
              "      <td>2</td>\n",
              "      <td>no</td>\n",
              "      <td>12759.377540</td>\n",
              "    </tr>\n",
              "    <tr>\n",
              "      <th>752</th>\n",
              "      <td>64</td>\n",
              "      <td>male</td>\n",
              "      <td>43.59075</td>\n",
              "      <td>0</td>\n",
              "      <td>no</td>\n",
              "      <td>14778.957388</td>\n",
              "    </tr>\n",
              "    <tr>\n",
              "      <th>1258</th>\n",
              "      <td>55</td>\n",
              "      <td>male</td>\n",
              "      <td>43.37225</td>\n",
              "      <td>3</td>\n",
              "      <td>no</td>\n",
              "      <td>31266.123772</td>\n",
              "    </tr>\n",
              "    <tr>\n",
              "      <th>384</th>\n",
              "      <td>44</td>\n",
              "      <td>male</td>\n",
              "      <td>25.45525</td>\n",
              "      <td>2</td>\n",
              "      <td>no</td>\n",
              "      <td>8634.637076</td>\n",
              "    </tr>\n",
              "    <tr>\n",
              "      <th>406</th>\n",
              "      <td>33</td>\n",
              "      <td>female</td>\n",
              "      <td>27.95650</td>\n",
              "      <td>0</td>\n",
              "      <td>no</td>\n",
              "      <td>4352.501816</td>\n",
              "    </tr>\n",
              "  </tbody>\n",
              "</table>\n",
              "</div>"
            ],
            "text/plain": [
              "      age     sex       bmi  children smoker       charges\n",
              "27     55  female  37.69125         2     no  12759.377540\n",
              "752    64    male  43.59075         0     no  14778.957388\n",
              "1258   55    male  43.37225         3     no  31266.123772\n",
              "384    44    male  25.45525         2     no   8634.637076\n",
              "406    33  female  27.95650         0     no   4352.501816"
            ]
          },
          "metadata": {
            "tags": []
          },
          "execution_count": 13
        }
      ]
    },
    {
      "cell_type": "markdown",
      "metadata": {
        "id": "1qo8suDuDBFE"
      },
      "source": [
        "Let us answer check the dataset."
      ]
    },
    {
      "cell_type": "markdown",
      "metadata": {
        "id": "w4Nwnk4lDBFE"
      },
      "source": [
        "#### Q: How many rows does the dataset have?"
      ]
    },
    {
      "cell_type": "code",
      "metadata": {
        "ExecuteTime": {
          "end_time": "2020-12-11T17:46:32.263504Z",
          "start_time": "2020-12-11T17:46:32.255995Z"
        },
        "id": "a_Ngq50GDBFF",
        "outputId": "6f34786f-bdd0-4d05-b012-27ec814d2fe9"
      },
      "source": [
        "num_rows = dataframe.shape[0]\n",
        "print(num_rows)"
      ],
      "execution_count": null,
      "outputs": [
        {
          "output_type": "stream",
          "text": [
            "1271\n"
          ],
          "name": "stdout"
        }
      ]
    },
    {
      "cell_type": "markdown",
      "metadata": {
        "id": "OQ-lps7aDBFG"
      },
      "source": [
        "#### Q: How many columns does the dataset have"
      ]
    },
    {
      "cell_type": "code",
      "metadata": {
        "ExecuteTime": {
          "end_time": "2020-12-11T17:48:27.469442Z",
          "start_time": "2020-12-11T17:48:27.462448Z"
        },
        "id": "sRV7gzuFDBFG",
        "outputId": "6109113f-ffe2-423a-f41f-aba28e642fc8"
      },
      "source": [
        "num_cols = dataframe.shape[1]\n",
        "print(num_cols)"
      ],
      "execution_count": null,
      "outputs": [
        {
          "output_type": "stream",
          "text": [
            "6\n"
          ],
          "name": "stdout"
        }
      ]
    },
    {
      "cell_type": "markdown",
      "metadata": {
        "id": "oyiP3Zo1DBFH"
      },
      "source": [
        "#### Q: What are the column titles of the input variables?"
      ]
    },
    {
      "cell_type": "code",
      "metadata": {
        "ExecuteTime": {
          "end_time": "2020-12-11T17:39:39.891344Z",
          "start_time": "2020-12-11T17:39:39.883349Z"
        },
        "code_folding": [],
        "id": "V5zj89x1DBFH",
        "outputId": "31e0994a-50c7-441a-c83c-dc503af6fb1b"
      },
      "source": [
        "input_cols=list(dataframe.columns[])\n",
        "input_cols"
      ],
      "execution_count": null,
      "outputs": [
        {
          "output_type": "execute_result",
          "data": {
            "text/plain": [
              "['age', 'sex', 'bmi', 'children', 'smoker']"
            ]
          },
          "metadata": {
            "tags": []
          },
          "execution_count": 16
        }
      ]
    },
    {
      "cell_type": "markdown",
      "metadata": {
        "id": "nHHB8xpGDBFI"
      },
      "source": [
        "#### Q: Which of the input columns are non-numeric or categorial variables ?\n",
        "Hint: sex is one of them. List the columns that are not numbers."
      ]
    },
    {
      "cell_type": "code",
      "metadata": {
        "ExecuteTime": {
          "end_time": "2020-12-11T17:49:49.511777Z",
          "start_time": "2020-12-11T17:49:49.498789Z"
        },
        "id": "rCMDRCcBDBFJ",
        "outputId": "ecbd7725-6fd9-4556-bb29-47baa203dbcc"
      },
      "source": [
        "categorical_cols=list(dataframe.select_dtypes('O').columns)\n",
        "categorical_cols"
      ],
      "execution_count": null,
      "outputs": [
        {
          "output_type": "execute_result",
          "data": {
            "text/plain": [
              "['sex', 'smoker']"
            ]
          },
          "metadata": {
            "tags": []
          },
          "execution_count": 23
        }
      ]
    },
    {
      "cell_type": "markdown",
      "metadata": {
        "ExecuteTime": {
          "end_time": "2020-12-11T17:50:05.418486Z",
          "start_time": "2020-12-11T17:50:05.409493Z"
        },
        "id": "_bShqzg3DBFJ"
      },
      "source": [
        "#### Q: What are the column titles of output/target variable(s)?"
      ]
    },
    {
      "cell_type": "code",
      "metadata": {
        "ExecuteTime": {
          "end_time": "2020-12-11T17:43:41.784656Z",
          "start_time": "2020-12-11T17:43:41.776661Z"
        },
        "id": "vP4CsPCSDBFK",
        "outputId": "85e7334e-5e42-4746-d1d3-4040645b9b26"
      },
      "source": [
        "output_cols=[dataframe.columns[-1]]\n",
        "output_cols"
      ],
      "execution_count": null,
      "outputs": [
        {
          "output_type": "execute_result",
          "data": {
            "text/plain": [
              "['charges']"
            ]
          },
          "metadata": {
            "tags": []
          },
          "execution_count": 19
        }
      ]
    },
    {
      "cell_type": "markdown",
      "metadata": {
        "id": "y6CrFLERDBFM"
      },
      "source": [
        "#### Q: (Optional) What is the minimum, maximum and average value of the charges column? Can you show the distribution of values in a graph? Use this data visualization cheatsheet for referece: https://jovian.ml/aakashns/dataviz-cheatsheet"
      ]
    },
    {
      "cell_type": "code",
      "metadata": {
        "ExecuteTime": {
          "end_time": "2020-12-11T17:51:33.546516Z",
          "start_time": "2020-12-11T17:51:22.376714Z"
        },
        "id": "PieSsUkfDBFN",
        "outputId": "bcf378be-cd23-4027-af00-db2a520b0867"
      },
      "source": [
        "# Write your answer here\n",
        "print(dataframe.agg({'charges':['min','max','mean']}))\n",
        "import seaborn as sns\n",
        "sns.set_style('darkgrid')\n",
        "plt.figure(figsize=(10,6))\n",
        "plt.hist(dataframe['charges'], bins=50, ec='black')\n",
        "plt.xlabel('Charges')\n",
        "plt.show()"
      ],
      "execution_count": null,
      "outputs": [
        {
          "output_type": "stream",
          "text": [
            "           charges\n",
            "min    1166.748856\n",
            "max   66321.245130\n",
            "mean  13824.973050\n"
          ],
          "name": "stdout"
        },
        {
          "output_type": "display_data",
          "data": {
            "image/png": "[encoded data removed]",
            "text/plain": [
              "<Figure size 720x432 with 1 Axes>"
            ]
          },
          "metadata": {
            "tags": []
          }
        }
      ]
    },
    {
      "cell_type": "markdown",
      "metadata": {
        "id": "7kqyaY0sDBFO"
      },
      "source": [
        "Remember to commit your notebook to Jovian after every step, so that you don't lose your work."
      ]
    },
    {
      "cell_type": "code",
      "metadata": {
        "ExecuteTime": {
          "end_time": "2020-12-11T17:56:59.130131Z",
          "start_time": "2020-12-11T17:56:32.201070Z"
        },
        "id": "y7kaUpMFDBFO",
        "outputId": "dfa4f88a-2349-4faf-8cd5-a9140e990291"
      },
      "source": [
        "!pip install jovian --upgrade -q"
      ],
      "execution_count": null,
      "outputs": [
        {
          "output_type": "stream",
          "text": [
            "WARNING: pip is being invoked by an old script wrapper. This will fail in a future version of pip.\n",
            "Please see https://github.com/pypa/pip/issues/5599 for advice on fixing the underlying issue.\n",
            "To avoid this problem you can invoke Python with '-m pip' instead of running pip directly.\n",
            "WARNING: Retrying (Retry(total=4, connect=None, read=None, redirect=None, status=None)) after connection broken by 'ReadTimeoutError(\"HTTPSConnectionPool(host='pypi.org', port=443): Read timed out. (read timeout=15)\")': /simple/jovian/\n"
          ],
          "name": "stderr"
        }
      ]
    },
    {
      "cell_type": "code",
      "metadata": {
        "ExecuteTime": {
          "end_time": "2020-12-11T17:57:09.528376Z",
          "start_time": "2020-12-11T17:57:09.524379Z"
        },
        "id": "Af8NiXoyDBFQ"
      },
      "source": [
        "import jovian"
      ],
      "execution_count": null,
      "outputs": []
    },
    {
      "cell_type": "code",
      "metadata": {
        "ExecuteTime": {
          "end_time": "2020-12-11T17:58:54.221386Z",
          "start_time": "2020-12-11T17:57:55.867889Z"
        },
        "id": "G62WbdJ1DBFR",
        "outputId": "1ae61115-5d42-43c7-808b-e328800677fd"
      },
      "source": [
        "jovian.commit(project='my-project')"
      ],
      "execution_count": null,
      "outputs": [
        {
          "output_type": "display_data",
          "data": {
            "application/javascript": [
              "window.require && require([\"base/js/namespace\"],function(Jupyter){Jupyter.notebook.save_checkpoint()})"
            ],
            "text/plain": [
              "<IPython.core.display.Javascript object>"
            ]
          },
          "metadata": {
            "tags": []
          }
        },
        {
          "output_type": "stream",
          "text": [
            "[jovian] Attempting to save notebook..\n",
            "[jovian] Creating a new project \"ashokdhakad/my-project\"\n",
            "[jovian] Uploading notebook..\n",
            "[jovian] Capturing environment..\n",
            "[jovian] Committed successfully! https://jovian.ai/ashokdhakad/my-project\n"
          ],
          "name": "stdout"
        },
        {
          "output_type": "execute_result",
          "data": {
            "text/plain": [
              "'https://jovian.ai/ashokdhakad/my-project'"
            ]
          },
          "metadata": {
            "tags": []
          },
          "execution_count": 32
        }
      ]
    },
    {
      "cell_type": "markdown",
      "metadata": {
        "id": "g2-idvRgDBFS"
      },
      "source": [
        "## Step 2: Prepare the dataset for training\n",
        "\n",
        "We need to convert the data from the Pandas dataframe into a PyTorch tensors for training. To do this, the first step is to convert it numpy arrays. If you've filled out `input_cols`, `categorial_cols` and `output_cols` correctly, this following function will perform the conversion to numpy arrays."
      ]
    },
    {
      "cell_type": "code",
      "metadata": {
        "ExecuteTime": {
          "end_time": "2020-12-11T17:59:41.193948Z",
          "start_time": "2020-12-11T17:59:41.186954Z"
        },
        "id": "5Zjy5eJwDBFS"
      },
      "source": [
        "def dataframe_to_arrays(dataframe):\n",
        "    # Make a copy of the original dataframe\n",
        "    dataframe1 = dataframe.copy(deep=True)\n",
        "    # Convert non-numeric categorical columns to numbers\n",
        "    for col in categorical_cols:\n",
        "        dataframe1[col] = dataframe1[col].astype('category').cat.codes\n",
        "    # Extract input & outupts as numpy arrays\n",
        "    inputs_array = dataframe1[input_cols].to_numpy()\n",
        "    targets_array = dataframe1[output_cols].to_numpy()\n",
        "    return inputs_array, targets_array"
      ],
      "execution_count": null,
      "outputs": []
    },
    {
      "cell_type": "markdown",
      "metadata": {
        "id": "_NUKZJjvDBFT"
      },
      "source": [
        "Read through the [Pandas documentation](https://pandas.pydata.org/pandas-docs/stable/user_guide/categorical.html) to understand how we're converting categorical variables into numbers."
      ]
    },
    {
      "cell_type": "code",
      "metadata": {
        "ExecuteTime": {
          "end_time": "2020-12-11T18:00:59.609756Z",
          "start_time": "2020-12-11T18:00:59.435514Z"
        },
        "id": "EKZdCTHpDBFT",
        "outputId": "46a429a0-9470-4e27-b230-900da39d19c8"
      },
      "source": [
        "inputs_array, targets_array = dataframe_to_arrays(dataframe)\n",
        "inputs_array, targets_array"
      ],
      "execution_count": null,
      "outputs": [
        {
          "output_type": "execute_result",
          "data": {
            "text/plain": [
              "(array([[55.     ,  0.     , 37.69125,  2.     ,  0.     ],\n",
              "        [64.     ,  1.     , 43.59075,  0.     ,  0.     ],\n",
              "        [55.     ,  1.     , 43.37225,  3.     ,  0.     ],\n",
              "        ...,\n",
              "        [56.     ,  1.     , 29.82525,  0.     ,  0.     ],\n",
              "        [18.     ,  0.     , 34.85075,  0.     ,  0.     ],\n",
              "        [43.     ,  1.     , 29.9345 ,  0.     ,  0.     ]]),\n",
              " array([[12759.37754 ],\n",
              "        [14778.957388],\n",
              "        [31266.123772],\n",
              "        ...,\n",
              "        [11612.034356],\n",
              "        [ 2291.885388],\n",
              "        [ 7110.863448]]))"
            ]
          },
          "metadata": {
            "tags": []
          },
          "execution_count": 34
        }
      ]
    },
    {
      "cell_type": "markdown",
      "metadata": {
        "id": "xX5_86qEDBFU"
      },
      "source": [
        "#### Q: Convert the numpy arrays inputs_array and targets_array into PyTorch tensors. Make sure that the data type is torch.float32."
      ]
    },
    {
      "cell_type": "code",
      "metadata": {
        "ExecuteTime": {
          "end_time": "2020-12-11T18:01:43.281083Z",
          "start_time": "2020-12-11T18:01:42.091918Z"
        },
        "id": "NUg5-M45DBFV",
        "outputId": "cc16ae81-9e3c-49ad-e0b1-c44cd2c15fe1"
      },
      "source": [
        "inputs = torch.from_numpy(inputs_array).type(torch.float32)\n",
        "targets = torch.from_numpy(targets_array).type(torch.float32)\n",
        "inputs[:2], targets[:2]"
      ],
      "execution_count": null,
      "outputs": [
        {
          "output_type": "execute_result",
          "data": {
            "text/plain": [
              "(tensor([[55.0000,  0.0000, 37.6912,  2.0000,  0.0000],\n",
              "         [64.0000,  1.0000, 43.5908,  0.0000,  0.0000]]), tensor([[12759.3779],\n",
              "         [14778.9570]]))"
            ]
          },
          "metadata": {
            "tags": []
          },
          "execution_count": 35
        }
      ]
    },
    {
      "cell_type": "code",
      "metadata": {
        "ExecuteTime": {
          "end_time": "2020-12-11T18:01:54.153162Z",
          "start_time": "2020-12-11T18:01:54.146169Z"
        },
        "id": "wJRX5knkDBFV",
        "outputId": "30183dd5-53a0-431f-ba76-9c5b39422b70"
      },
      "source": [
        "inputs.dtype, targets.dtype"
      ],
      "execution_count": null,
      "outputs": [
        {
          "output_type": "execute_result",
          "data": {
            "text/plain": [
              "(torch.float32, torch.float32)"
            ]
          },
          "metadata": {
            "tags": []
          },
          "execution_count": 36
        }
      ]
    },
    {
      "cell_type": "markdown",
      "metadata": {
        "id": "qqeOTD1RDBFW"
      },
      "source": [
        "Next, we need to create PyTorch datasets & data loaders for training & validation. We'll start by creating a `TensorDataset`."
      ]
    },
    {
      "cell_type": "code",
      "metadata": {
        "ExecuteTime": {
          "end_time": "2020-12-11T18:02:25.962885Z",
          "start_time": "2020-12-11T18:02:25.951895Z"
        },
        "id": "gkVpuojqDBFX",
        "outputId": "51ede834-0218-42c5-fb05-33b79454a192"
      },
      "source": [
        "dataset = TensorDataset(inputs, targets)\n",
        "dataset[:5]"
      ],
      "execution_count": null,
      "outputs": [
        {
          "output_type": "execute_result",
          "data": {
            "text/plain": [
              "(tensor([[55.0000,  0.0000, 37.6912,  2.0000,  0.0000],\n",
              "         [64.0000,  1.0000, 43.5908,  0.0000,  0.0000],\n",
              "         [55.0000,  1.0000, 43.3722,  3.0000,  0.0000],\n",
              "         [44.0000,  1.0000, 25.4552,  2.0000,  0.0000],\n",
              "         [33.0000,  0.0000, 27.9565,  0.0000,  0.0000]]), tensor([[12759.3779],\n",
              "         [14778.9570],\n",
              "         [31266.1230],\n",
              "         [ 8634.6367],\n",
              "         [ 4352.5020]]))"
            ]
          },
          "metadata": {
            "tags": []
          },
          "execution_count": 37
        }
      ]
    },
    {
      "cell_type": "markdown",
      "metadata": {
        "id": "6WpRgdK2DBFX"
      },
      "source": [
        "#### Q: Pick a number between 0.1 and 0.2 to determine the fraction of data that will be used for creating the validation set. Then use random_split to create training & validation datasets."
      ]
    },
    {
      "cell_type": "code",
      "metadata": {
        "ExecuteTime": {
          "end_time": "2020-12-11T18:02:50.402852Z",
          "start_time": "2020-12-11T18:02:50.111501Z"
        },
        "id": "RidE6x_LDBFZ"
      },
      "source": [
        "val_percent = 0.125 # between 0.1 and 0.2\n",
        "val_size = int(num_rows * val_percent)\n",
        "train_size = num_rows - val_size\n",
        "\n",
        "\n",
        "train_ds, val_ds = random_split(dataset, [train_size, val_size]) # Use the random_split function to split dataset into 2 parts of the desired length"
      ],
      "execution_count": null,
      "outputs": []
    },
    {
      "cell_type": "markdown",
      "metadata": {
        "id": "jBW2UhNYDBFZ"
      },
      "source": [
        "Finally, we can create data loaders for training & validation."
      ]
    },
    {
      "cell_type": "markdown",
      "metadata": {
        "id": "m5J9oDBkDBFa"
      },
      "source": [
        "#### Q: Pick a batch size for the data loader."
      ]
    },
    {
      "cell_type": "code",
      "metadata": {
        "ExecuteTime": {
          "end_time": "2020-12-11T18:03:29.152621Z",
          "start_time": "2020-12-11T18:03:29.146639Z"
        },
        "id": "xYv7t4RCDBFa"
      },
      "source": [
        "batch_size = 120"
      ],
      "execution_count": null,
      "outputs": []
    },
    {
      "cell_type": "code",
      "metadata": {
        "ExecuteTime": {
          "end_time": "2020-12-11T18:03:39.638176Z",
          "start_time": "2020-12-11T18:03:39.628181Z"
        },
        "id": "Gdokp8BTDBFf",
        "outputId": "577b667b-f0c8-49d5-e87b-2428ab5ae22a"
      },
      "source": [
        "train_loader = DataLoader(train_ds, batch_size, shuffle=True)\n",
        "val_loader = DataLoader(val_ds, batch_size)\n",
        "len(train_loader), len(val_loader)"
      ],
      "execution_count": null,
      "outputs": [
        {
          "output_type": "execute_result",
          "data": {
            "text/plain": [
              "(10, 2)"
            ]
          },
          "metadata": {
            "tags": []
          },
          "execution_count": 40
        }
      ]
    },
    {
      "cell_type": "markdown",
      "metadata": {
        "id": "pOESBi8TDBFg"
      },
      "source": [
        "Let's look at a batch of data to verify everything is working fine so far."
      ]
    },
    {
      "cell_type": "code",
      "metadata": {
        "ExecuteTime": {
          "end_time": "2020-12-11T18:04:08.995160Z",
          "start_time": "2020-12-11T18:04:08.548291Z"
        },
        "id": "q76hit1uDBFh",
        "outputId": "58012280-d775-4a8a-b8b3-d17c204df69d"
      },
      "source": [
        "for xb, yb in train_loader:\n",
        "    print(\"inputs:\", xb)\n",
        "    print(\"targets:\", yb)\n",
        "    break"
      ],
      "execution_count": null,
      "outputs": [
        {
          "output_type": "stream",
          "text": [
            "inputs: tensor([[32.0000,  0.0000, 50.8530,  0.0000,  0.0000],\n",
            "        [31.0000,  0.0000, 43.8092,  1.0000,  1.0000],\n",
            "        [31.0000,  0.0000, 27.1400,  2.0000,  0.0000],\n",
            "        [50.0000,  0.0000, 29.4400,  0.0000,  0.0000],\n",
            "        [36.0000,  0.0000, 29.7850,  1.0000,  0.0000],\n",
            "        [18.0000,  1.0000, 24.6905,  0.0000,  0.0000],\n",
            "        [20.0000,  1.0000, 35.2878,  0.0000,  1.0000],\n",
            "        [50.0000,  1.0000, 29.0950,  0.0000,  0.0000],\n",
            "        [52.0000,  0.0000, 38.2950,  2.0000,  0.0000],\n",
            "        [21.0000,  1.0000, 35.7650,  0.0000,  0.0000],\n",
            "        [64.0000,  1.0000, 43.9185,  0.0000,  0.0000],\n",
            "        [19.0000,  0.0000, 32.6600,  1.0000,  0.0000],\n",
            "        [63.0000,  0.0000, 24.9090,  0.0000,  0.0000],\n",
            "        [18.0000,  1.0000, 26.5478,  0.0000,  0.0000],\n",
            "        [48.0000,  1.0000, 36.1618,  1.0000,  0.0000],\n",
            "        [26.0000,  1.0000, 34.5000,  1.0000,  0.0000],\n",
            "        [30.0000,  0.0000, 32.6657,  1.0000,  0.0000],\n",
            "        [61.0000,  1.0000, 36.3055,  0.0000,  0.0000],\n",
            "        [60.0000,  0.0000, 43.7690,  0.0000,  0.0000],\n",
            "        [26.0000,  1.0000, 53.5095,  1.0000,  0.0000],\n",
            "        [50.0000,  0.0000, 32.3380,  3.0000,  0.0000],\n",
            "        [18.0000,  0.0000, 34.8507,  0.0000,  0.0000],\n",
            "        [64.0000,  1.0000, 46.5520,  0.0000,  0.0000],\n",
            "        [47.0000,  0.0000, 42.1245,  1.0000,  1.0000],\n",
            "        [30.0000,  0.0000, 26.3293,  1.0000,  0.0000],\n",
            "        [19.0000,  1.0000, 23.4888,  0.0000,  0.0000],\n",
            "        [60.0000,  0.0000, 33.0050,  1.0000,  0.0000],\n",
            "        [58.0000,  0.0000, 44.9075,  0.0000,  0.0000],\n",
            "        [23.0000,  0.0000, 27.8587,  2.0000,  0.0000],\n",
            "        [30.0000,  1.0000, 50.8530,  2.0000,  0.0000],\n",
            "        [57.0000,  1.0000, 36.2710,  0.0000,  0.0000],\n",
            "        [61.0000,  0.0000, 44.9650,  2.0000,  0.0000],\n",
            "        [54.0000,  0.0000, 33.2120,  2.0000,  0.0000],\n",
            "        [62.0000,  0.0000, 42.3890,  1.0000,  0.0000],\n",
            "        [47.0000,  1.0000, 54.6480,  1.0000,  0.0000],\n",
            "        [22.0000,  0.0000, 33.1430,  0.0000,  0.0000],\n",
            "        [55.0000,  0.0000, 34.1550,  2.0000,  0.0000],\n",
            "        [47.0000,  0.0000, 33.7755,  1.0000,  0.0000],\n",
            "        [25.0000,  1.0000, 27.7495,  0.0000,  1.0000],\n",
            "        [53.0000,  0.0000, 45.5400,  1.0000,  0.0000],\n",
            "        [22.0000,  1.0000, 42.6305,  2.0000,  1.0000],\n",
            "        [58.0000,  0.0000, 26.1855,  0.0000,  0.0000],\n",
            "        [29.0000,  1.0000, 32.1310,  0.0000,  0.0000],\n",
            "        [39.0000,  1.0000, 52.2445,  2.0000,  0.0000],\n",
            "        [28.0000,  0.0000, 31.6250,  2.0000,  0.0000],\n",
            "        [59.0000,  1.0000, 34.3045,  3.0000,  1.0000],\n",
            "        [64.0000,  1.0000, 29.4400,  2.0000,  0.0000],\n",
            "        [43.0000,  1.0000, 40.6065,  2.0000,  0.0000],\n",
            "        [26.0000,  0.0000, 22.7700,  1.0000,  0.0000],\n",
            "        [25.0000,  1.0000, 30.6992,  4.0000,  0.0000],\n",
            "        [54.0000,  1.0000, 34.7415,  0.0000,  0.0000],\n",
            "        [27.0000,  0.0000, 37.2542,  1.0000,  0.0000],\n",
            "        [29.0000,  1.0000, 38.3467,  2.0000,  0.0000],\n",
            "        [33.0000,  0.0000, 41.7335,  3.0000,  0.0000],\n",
            "        [21.0000,  1.0000, 35.6730,  0.0000,  0.0000],\n",
            "        [30.0000,  1.0000, 43.4700,  2.0000,  1.0000],\n",
            "        [35.0000,  0.0000, 49.8410,  2.0000,  0.0000],\n",
            "        [33.0000,  1.0000, 41.1125,  2.0000,  0.0000],\n",
            "        [49.0000,  1.0000, 29.4400,  2.0000,  1.0000],\n",
            "        [51.0000,  0.0000, 43.3895,  1.0000,  0.0000],\n",
            "        [24.0000,  1.0000, 33.6950,  0.0000,  0.0000],\n",
            "        [41.0000,  1.0000, 35.1785,  2.0000,  0.0000],\n",
            "        [34.0000,  1.0000, 24.5812,  0.0000,  0.0000],\n",
            "        [28.0000,  1.0000, 27.9450,  5.0000,  0.0000],\n",
            "        [46.0000,  1.0000, 45.3387,  1.0000,  0.0000],\n",
            "        [58.0000,  1.0000, 42.4982,  2.0000,  1.0000],\n",
            "        [43.0000,  1.0000, 31.4640,  3.0000,  0.0000],\n",
            "        [55.0000,  0.0000, 42.6650,  0.0000,  0.0000],\n",
            "        [21.0000,  0.0000, 45.4135,  0.0000,  0.0000],\n",
            "        [25.0000,  0.0000, 34.8450,  0.0000,  0.0000],\n",
            "        [52.0000,  0.0000, 35.5062,  0.0000,  0.0000],\n",
            "        [37.0000,  0.0000, 39.2207,  1.0000,  0.0000],\n",
            "        [23.0000,  1.0000, 30.4865,  0.0000,  0.0000],\n",
            "        [52.0000,  0.0000, 51.4050,  3.0000,  0.0000],\n",
            "        [22.0000,  1.0000, 30.8660,  0.0000,  0.0000],\n",
            "        [25.0000,  0.0000, 34.7300,  0.0000,  1.0000],\n",
            "        [24.0000,  1.0000, 29.6700,  0.0000,  0.0000],\n",
            "        [42.0000,  1.0000, 28.3360,  0.0000,  1.0000],\n",
            "        [57.0000,  0.0000, 39.4393,  2.0000,  0.0000],\n",
            "        [45.0000,  0.0000, 38.0650,  0.0000,  0.0000],\n",
            "        [33.0000,  0.0000, 40.8595,  0.0000,  1.0000],\n",
            "        [35.0000,  1.0000, 27.7495,  1.0000,  0.0000],\n",
            "        [30.0000,  1.0000, 36.3055,  3.0000,  0.0000],\n",
            "        [48.0000,  0.0000, 37.1450,  2.0000,  0.0000],\n",
            "        [61.0000,  1.0000, 41.5150,  3.0000,  0.0000],\n",
            "        [46.0000,  0.0000, 38.4560,  1.0000,  0.0000],\n",
            "        [63.0000,  0.0000, 36.5700,  0.0000,  0.0000],\n",
            "        [18.0000,  0.0000, 44.0220,  0.0000,  0.0000],\n",
            "        [44.0000,  1.0000, 36.0525,  1.0000,  1.0000],\n",
            "        [50.0000,  0.0000, 30.1530,  2.0000,  0.0000],\n",
            "        [62.0000,  0.0000, 37.5820,  0.0000,  0.0000],\n",
            "        [29.0000,  0.0000, 35.8340,  0.0000,  0.0000],\n",
            "        [22.0000,  0.0000, 31.1650,  0.0000,  0.0000],\n",
            "        [18.0000,  0.0000, 24.9090,  0.0000,  1.0000],\n",
            "        [25.0000,  1.0000, 29.7160,  1.0000,  0.0000],\n",
            "        [62.0000,  0.0000, 36.4895,  0.0000,  0.0000],\n",
            "        [38.0000,  1.0000, 32.5105,  1.0000,  0.0000],\n",
            "        [42.0000,  1.0000, 28.5890,  0.0000,  0.0000],\n",
            "        [25.0000,  1.0000, 30.1530,  0.0000,  0.0000],\n",
            "        [26.0000,  1.0000, 39.0023,  1.0000,  0.0000],\n",
            "        [39.0000,  0.0000, 26.7663,  3.0000,  0.0000],\n",
            "        [18.0000,  0.0000, 38.9620,  0.0000,  0.0000],\n",
            "        [25.0000,  0.0000, 47.5238,  0.0000,  0.0000],\n",
            "        [41.0000,  0.0000, 32.5565,  1.0000,  0.0000],\n",
            "        [46.0000,  1.0000, 29.6068,  3.0000,  0.0000],\n",
            "        [50.0000,  0.0000, 51.4567,  0.0000,  0.0000],\n",
            "        [20.0000,  1.0000, 34.6323,  5.0000,  0.0000],\n",
            "        [46.0000,  1.0000, 31.7400,  0.0000,  0.0000],\n",
            "        [44.0000,  1.0000, 34.7300,  2.0000,  1.0000],\n",
            "        [34.0000,  1.0000, 29.0950,  2.0000,  1.0000],\n",
            "        [32.0000,  0.0000, 20.4298,  2.0000,  1.0000],\n",
            "        [18.0000,  0.0000, 46.2127,  0.0000,  0.0000],\n",
            "        [26.0000,  1.0000, 37.8350,  2.0000,  1.0000],\n",
            "        [59.0000,  0.0000, 32.0045,  3.0000,  0.0000],\n",
            "        [64.0000,  0.0000, 30.9177,  0.0000,  1.0000],\n",
            "        [59.0000,  0.0000, 40.0200,  2.0000,  0.0000],\n",
            "        [29.0000,  1.0000, 42.8835,  2.0000,  0.0000],\n",
            "        [18.0000,  1.0000, 40.4800,  1.0000,  0.0000],\n",
            "        [58.0000,  0.0000, 41.9520,  0.0000,  0.0000],\n",
            "        [45.0000,  0.0000, 36.5585,  0.0000,  0.0000]])\n",
            "targets: tensor([[ 4153.9448],\n",
            "        [60913.9180],\n",
            "        [ 5128.9131],\n",
            "        [ 9289.3672],\n",
            "        [ 5691.3472],\n",
            "        [ 1770.5535],\n",
            "        [34814.8516],\n",
            "        [ 8780.3740],\n",
            "        [11239.1123],\n",
            "        [ 1587.3645],\n",
            "        [14987.3691],\n",
            "        [ 2424.7798],\n",
            "        [15027.8486],\n",
            "        [ 1772.8882],\n",
            "        [ 9322.6230],\n",
            "        [ 3020.2515],\n",
            "        [ 4708.2705],\n",
            "        [13059.9092],\n",
            "        [13154.6514],\n",
            "        [ 3044.1472],\n",
            "        [11529.0107],\n",
            "        [ 2291.8855],\n",
            "        [14384.3594],\n",
            "        [44688.6484],\n",
            "        [ 4908.3052],\n",
            "        [ 1690.4510],\n",
            "        [13753.6807],\n",
            "        [12330.6680],\n",
            "        [23291.5742],\n",
            "        [ 4436.8125],\n",
            "        [11807.3564],\n",
            "        [14804.4746],\n",
            "        [12580.5176],\n",
            "        [32884.8008],\n",
            "        [ 8407.2764],\n",
            "        [ 2243.0220],\n",
            "        [12356.6123],\n",
            "        [ 8889.5986],\n",
            "        [16450.7051],\n",
            "        [11002.8994],\n",
            "        [38983.8281],\n",
            "        [12307.1338],\n",
            "        [ 2981.8044],\n",
            "        [ 6610.5215],\n",
            "        [20984.7773],\n",
            "        [31392.3340],\n",
            "        [15587.9697],\n",
            "        [19558.3906],\n",
            "        [ 3514.0664],\n",
            "        [ 5073.1001],\n",
            "        [10640.7598],\n",
            "        [19659.6309],\n",
            "        [20220.0469],\n",
            "        [ 6813.8203],\n",
            "        [17249.9570],\n",
            "        [40811.1016],\n",
            "        [ 6080.7944],\n",
            "        [ 5085.5996],\n",
            "        [24238.8086],\n",
            "        [10272.7119],\n",
            "        [ 2056.9275],\n",
            "        [ 7546.9922],\n",
            "        [ 4680.3530],\n",
            "        [ 5839.9839],\n",
            "        [ 8676.6250],\n",
            "        [49396.3555],\n",
            "        [ 8950.4658],\n",
            "        [11142.1895],\n",
            "        [ 2108.0530],\n",
            "        [ 2738.3118],\n",
            "        [23967.3887],\n",
            "        [ 6356.8472],\n",
            "        [ 1888.5110],\n",
            "        [11868.1523],\n",
            "        [ 1731.5996],\n",
            "        [35256.6797],\n",
            "        [ 2051.8679],\n",
            "        [20296.1641],\n",
            "        [13753.0195],\n",
            "        [ 7638.8872],\n",
            "        [57340.8164],\n",
            "        [ 5330.2241],\n",
            "        [ 5031.0854],\n",
            "        [10444.9785],\n",
            "        [29058.9395],\n",
            "        [ 8570.2129],\n",
            "        [14436.1865],\n",
            "        [ 1697.0940],\n",
            "        [41138.7539],\n",
            "        [10913.7041],\n",
            "        [14398.5889],\n",
            "        [ 4101.3394],\n",
            "        [ 2240.5354],\n",
            "        [14854.7979],\n",
            "        [ 3442.1843],\n",
            "        [14605.2158],\n",
            "        [ 5703.8462],\n",
            "        [ 6205.5630],\n",
            "        [ 2830.1736],\n",
            "        [ 3424.2310],\n",
            "        [ 8305.9346],\n",
            "        [11941.9404],\n",
            "        [18594.0566],\n",
            "        [ 7439.6963],\n",
            "        [ 9673.9697],\n",
            "        [ 9923.3633],\n",
            "        [ 5111.6621],\n",
            "        [25587.1699],\n",
            "        [40558.4883],\n",
            "        [19731.3945],\n",
            "        [34043.5547],\n",
            "        [ 2306.1680],\n",
            "        [37528.6289],\n",
            "        [14561.3379],\n",
            "        [30504.2227],\n",
            "        [38387.0312],\n",
            "        [ 4220.4409],\n",
            "        [ 1796.6416],\n",
            "        [12725.2725],\n"
          ],
          "name": "stdout"
        },
        {
          "output_type": "stream",
          "text": [
            "        [18646.4746]])\n"
          ],
          "name": "stdout"
        }
      ]
    },
    {
      "cell_type": "markdown",
      "metadata": {
        "id": "LOwdItIXDBFh"
      },
      "source": [
        "Let's save our work by committing to Jovian."
      ]
    },
    {
      "cell_type": "code",
      "metadata": {
        "ExecuteTime": {
          "end_time": "2020-12-11T18:04:39.047305Z",
          "start_time": "2020-12-11T18:04:35.327103Z"
        },
        "id": "gK6iwYZuDBFi",
        "outputId": "2a855f2b-b2dc-47c1-83e3-a73c0afd572a"
      },
      "source": [
        "jovian.commit(project=project_name, environment=None)"
      ],
      "execution_count": null,
      "outputs": [
        {
          "output_type": "display_data",
          "data": {
            "application/javascript": [
              "window.require && require([\"base/js/namespace\"],function(Jupyter){Jupyter.notebook.save_checkpoint()})"
            ],
            "text/plain": [
              "<IPython.core.display.Javascript object>"
            ]
          },
          "metadata": {
            "tags": []
          }
        },
        {
          "output_type": "stream",
          "text": [
            "[jovian] Attempting to save notebook..\n",
            "[jovian] Creating a new project \"ashokdhakad/Assignment-2\"\n",
            "[jovian] Uploading notebook..\n",
            "[jovian] Committed successfully! https://jovian.ai/ashokdhakad/assignment-2\n"
          ],
          "name": "stdout"
        },
        {
          "output_type": "execute_result",
          "data": {
            "text/plain": [
              "'https://jovian.ai/ashokdhakad/assignment-2'"
            ]
          },
          "metadata": {
            "tags": []
          },
          "execution_count": 42
        }
      ]
    },
    {
      "cell_type": "markdown",
      "metadata": {
        "id": "MaSc8cvzDBFj"
      },
      "source": [
        "## Step 3: Create a Linear Regression Model\n",
        "\n",
        "Our model itself is a fairly straightforward linear regression (we'll build more complex models in the next assignment). \n"
      ]
    },
    {
      "cell_type": "code",
      "metadata": {
        "ExecuteTime": {
          "end_time": "2020-12-11T18:05:19.550574Z",
          "start_time": "2020-12-11T18:05:19.541581Z"
        },
        "id": "7UDbDX_PDBFj",
        "outputId": "34d84f2d-8b52-4b2f-aaa6-4efc61590d62"
      },
      "source": [
        "inputs.size(), targets.size()"
      ],
      "execution_count": null,
      "outputs": [
        {
          "output_type": "execute_result",
          "data": {
            "text/plain": [
              "(torch.Size([1271, 5]), torch.Size([1271, 1]))"
            ]
          },
          "metadata": {
            "tags": []
          },
          "execution_count": 43
        }
      ]
    },
    {
      "cell_type": "code",
      "metadata": {
        "ExecuteTime": {
          "end_time": "2020-12-11T18:05:25.485601Z",
          "start_time": "2020-12-11T18:05:25.480602Z"
        },
        "id": "OKEclf9XDBFk",
        "outputId": "616572f5-0261-4f78-9e5b-b9533146d624"
      },
      "source": [
        "input_cols"
      ],
      "execution_count": null,
      "outputs": [
        {
          "output_type": "execute_result",
          "data": {
            "text/plain": [
              "['age', 'sex', 'bmi', 'children', 'smoker']"
            ]
          },
          "metadata": {
            "tags": []
          },
          "execution_count": 44
        }
      ]
    },
    {
      "cell_type": "code",
      "metadata": {
        "ExecuteTime": {
          "end_time": "2020-12-11T18:06:44.821793Z",
          "start_time": "2020-12-11T18:06:44.814799Z"
        },
        "id": "GU2I2wtlDBFl",
        "outputId": "bd72d6fa-a602-4e6d-edfb-1f7827c4ad5d"
      },
      "source": [
        "input_size = len(input_cols)\n",
        "output_size = len(output_cols)\n",
        "input_size, output_size"
      ],
      "execution_count": null,
      "outputs": [
        {
          "output_type": "execute_result",
          "data": {
            "text/plain": [
              "(5, 1)"
            ]
          },
          "metadata": {
            "tags": []
          },
          "execution_count": 45
        }
      ]
    },
    {
      "cell_type": "markdown",
      "metadata": {
        "id": "Dj5_YkPNDBFl"
      },
      "source": [
        "**Q: Complete the class definition below by filling out the constructor (`__init__`), `forward`, `training_step` and `validation_step` methods.**\n",
        "\n",
        "Hint: Think carefully about picking a good loss fuction (it's not cross entropy). Maybe try 2-3 of them and see which one works best. See https://pytorch.org/docs/stable/nn.functional.html#loss-functions"
      ]
    },
    {
      "cell_type": "code",
      "metadata": {
        "ExecuteTime": {
          "end_time": "2020-12-11T18:07:17.444754Z",
          "start_time": "2020-12-11T18:07:17.430745Z"
        },
        "id": "uJBAdbbADBFm"
      },
      "source": [
        "class InsuranceModel(nn.Module):\n",
        "    def __init__(self):\n",
        "        super().__init__()\n",
        "        self.linear = nn.Linear(input_size, output_size)                  # fill this (hint: use input_size & output_size defined above)\n",
        "        \n",
        "    def forward(self, xb):\n",
        "        out = self.linear(xb)                          # fill this\n",
        "        return out\n",
        "    \n",
        "    def training_step(self, batch):\n",
        "        inputs, targets = batch \n",
        "        # Generate predictions\n",
        "        out = self(inputs)        \n",
        "        # Calcuate loss\n",
        "        loss = F.l1_loss(out, targets)                          # fill this\n",
        "        return loss\n",
        "    \n",
        "    def validation_step(self, batch):\n",
        "        inputs, targets = batch\n",
        "        # Generate predictions\n",
        "        out = self(inputs)\n",
        "        # Calculate loss\n",
        "        loss = F.l1_loss(out, targets)                           # fill this    \n",
        "        return {'val_loss': loss.detach()}\n",
        "        \n",
        "    def validation_epoch_end(self, outputs):\n",
        "        batch_losses = [x['val_loss'] for x in outputs]\n",
        "        epoch_loss = torch.stack(batch_losses).mean()   # Combine losses\n",
        "        return {'val_loss': epoch_loss.item()}\n",
        "    \n",
        "    def epoch_end(self, epoch, result, num_epochs):\n",
        "        # Print result every 20th epoch\n",
        "        if (epoch+1) % 20 == 0 or epoch == num_epochs-1:\n",
        "            print(\"Epoch [{}], val_loss: {:.4f}\".format(epoch+1, result['val_loss']))"
      ],
      "execution_count": null,
      "outputs": []
    },
    {
      "cell_type": "markdown",
      "metadata": {
        "id": "LjMIIeoZDBFn"
      },
      "source": [
        "Let us create a model using the `InsuranceModel` class. You may need to come back later and re-run the next cell to reinitialize the model, in case the loss becomes `nan` or `infinity`."
      ]
    },
    {
      "cell_type": "code",
      "metadata": {
        "ExecuteTime": {
          "end_time": "2020-12-11T18:07:47.507764Z",
          "start_time": "2020-12-11T18:07:47.299102Z"
        },
        "id": "jn-GEBHcDBFn"
      },
      "source": [
        "model = InsuranceModel()"
      ],
      "execution_count": null,
      "outputs": []
    },
    {
      "cell_type": "markdown",
      "metadata": {
        "ExecuteTime": {
          "end_time": "2020-12-11T18:07:59.309403Z",
          "start_time": "2020-12-11T18:07:59.303405Z"
        },
        "id": "89z6l9vlDBFo"
      },
      "source": [
        "Let's check out the weights and biases of the model using `model.parameters`."
      ]
    },
    {
      "cell_type": "code",
      "metadata": {
        "ExecuteTime": {
          "end_time": "2020-12-11T18:08:17.534112Z",
          "start_time": "2020-12-11T18:08:17.524120Z"
        },
        "id": "TdfUCRqGDBFo",
        "outputId": "934347c4-f9a7-4e50-f548-e54ff1ce1965"
      },
      "source": [
        "list(model.parameters())"
      ],
      "execution_count": null,
      "outputs": [
        {
          "output_type": "execute_result",
          "data": {
            "text/plain": [
              "[Parameter containing:\n",
              " tensor([[-0.0093,  0.0368,  0.3054,  0.2592, -0.2386]], requires_grad=True),\n",
              " Parameter containing:\n",
              " tensor([0.0784], requires_grad=True)]"
            ]
          },
          "metadata": {
            "tags": []
          },
          "execution_count": 49
        }
      ]
    },
    {
      "cell_type": "markdown",
      "metadata": {
        "id": "FjyEpMqHDBFp"
      },
      "source": [
        "One final commit before we train the model."
      ]
    },
    {
      "cell_type": "code",
      "metadata": {
        "ExecuteTime": {
          "end_time": "2020-12-11T18:08:52.553797Z",
          "start_time": "2020-12-11T18:08:39.177889Z"
        },
        "id": "iBMQaKsmDBFq",
        "outputId": "02c2d8d5-ca3a-42bb-9646-46b01f11a49b"
      },
      "source": [
        "jovian.commit(project=project_name, environment=None)"
      ],
      "execution_count": null,
      "outputs": [
        {
          "output_type": "display_data",
          "data": {
            "application/javascript": [
              "window.require && require([\"base/js/namespace\"],function(Jupyter){Jupyter.notebook.save_checkpoint()})"
            ],
            "text/plain": [
              "<IPython.core.display.Javascript object>"
            ]
          },
          "metadata": {
            "tags": []
          }
        },
        {
          "output_type": "stream",
          "text": [
            "[jovian] Attempting to save notebook..\n",
            "[jovian] Updating notebook \"ashokdhakad/assignment-2\" on https://jovian.ai/\n",
            "[jovian] Uploading notebook..\n",
            "[jovian] Committed successfully! https://jovian.ai/ashokdhakad/assignment-2\n"
          ],
          "name": "stdout"
        },
        {
          "output_type": "execute_result",
          "data": {
            "text/plain": [
              "'https://jovian.ai/ashokdhakad/assignment-2'"
            ]
          },
          "metadata": {
            "tags": []
          },
          "execution_count": 50
        }
      ]
    },
    {
      "cell_type": "markdown",
      "metadata": {
        "id": "cU0yapD6DBFq"
      },
      "source": [
        "## Step 4: Train the model to fit the data\n",
        "\n",
        "To train our model, we'll use the same `fit` function explained in the lecture. That's the benefit of defining a generic training loop - you can use it for any problem."
      ]
    },
    {
      "cell_type": "code",
      "metadata": {
        "ExecuteTime": {
          "end_time": "2020-12-11T18:09:20.176419Z",
          "start_time": "2020-12-11T18:09:20.161427Z"
        },
        "id": "xJZN5t8dDBFr"
      },
      "source": [
        "def evaluate(model, val_loader):\n",
        "    outputs = [model.validation_step(batch) for batch in val_loader]\n",
        "    return model.validation_epoch_end(outputs)\n",
        "\n",
        "def fit(epochs, lr, model, train_loader, val_loader, opt_func=torch.optim.Adam):\n",
        "    history = []\n",
        "    optimizer = opt_func(model.parameters(), lr)\n",
        "    for epoch in range(epochs):\n",
        "        # Training Phase \n",
        "        for batch in train_loader:\n",
        "            loss = model.training_step(batch)\n",
        "            loss.backward()\n",
        "            optimizer.step()\n",
        "            optimizer.zero_grad()\n",
        "        # Validation phase\n",
        "        result = evaluate(model, val_loader)\n",
        "        model.epoch_end(epoch, result, epochs)\n",
        "        history.append(result)\n",
        "    return history"
      ],
      "execution_count": null,
      "outputs": []
    },
    {
      "cell_type": "markdown",
      "metadata": {
        "id": "wzDx8ywNDBFr"
      },
      "source": [
        "#### Q: Use the evaluate function to calculate the loss on the validation set before training."
      ]
    },
    {
      "cell_type": "code",
      "metadata": {
        "ExecuteTime": {
          "end_time": "2020-12-11T18:09:53.638731Z",
          "start_time": "2020-12-11T18:09:53.129984Z"
        },
        "id": "yMP-BteTDBFs",
        "outputId": "7871ab48-a043-4f5e-f606-cec69dff5800"
      },
      "source": [
        "result = evaluate(model, val_loader) # Use the the evaluate function\n",
        "print(result)"
      ],
      "execution_count": null,
      "outputs": [
        {
          "output_type": "stream",
          "text": [
            "{'val_loss': 15423.173828125}\n"
          ],
          "name": "stdout"
        }
      ]
    },
    {
      "cell_type": "markdown",
      "metadata": {
        "id": "xrnphtCUDBFt"
      },
      "source": [
        "\n",
        "We are now ready to train the model. You may need to run the training loop many times, for different number of epochs and with different learning rates, to get a good result. Also, if your loss becomes too large (or `nan`), you may have to re-initialize the model by running the cell `model = InsuranceModel()`. Experiment with this for a while, and try to get to as low a loss as possible."
      ]
    },
    {
      "cell_type": "markdown",
      "metadata": {
        "id": "wzaOcRO_DBFu"
      },
      "source": [
        "**Q: Train the model 4-5 times with different learning rates & for different number of epochs.**\n",
        "\n",
        "Hint: Vary learning rates by orders of 10 (e.g. `1e-2`, `1e-3`, `1e-4`, `1e-5`, `1e-6`) to figure out what works."
      ]
    },
    {
      "cell_type": "code",
      "metadata": {
        "ExecuteTime": {
          "end_time": "2020-12-11T18:11:05.022732Z",
          "start_time": "2020-12-11T18:10:33.865791Z"
        },
        "id": "9gJtcAy-DBFu",
        "outputId": "5d4ce264-36c3-44f0-9df3-ec364843d1a2"
      },
      "source": [
        "epochs = 1000\n",
        "lr = 1e-1\n",
        "history1 = fit(epochs, lr, model, train_loader, val_loader)"
      ],
      "execution_count": null,
      "outputs": [
        {
          "output_type": "stream",
          "text": [
            "Epoch [20], val_loss: 13885.4580\n",
            "Epoch [40], val_loss: 12468.1816\n",
            "Epoch [60], val_loss: 11364.5166\n",
            "Epoch [80], val_loss: 10523.9160\n",
            "Epoch [100], val_loss: 9942.8232\n",
            "Epoch [120], val_loss: 9552.9707\n",
            "Epoch [140], val_loss: 9332.9189\n",
            "Epoch [160], val_loss: 9224.9395\n",
            "Epoch [180], val_loss: 9160.3418\n",
            "Epoch [200], val_loss: 9115.1602\n",
            "Epoch [220], val_loss: 9078.2383\n",
            "Epoch [240], val_loss: 9047.9492\n",
            "Epoch [260], val_loss: 9020.8555\n",
            "Epoch [280], val_loss: 8989.8770\n",
            "Epoch [300], val_loss: 8959.9932\n",
            "Epoch [320], val_loss: 8928.9492\n",
            "Epoch [340], val_loss: 8894.9199\n",
            "Epoch [360], val_loss: 8860.6309\n",
            "Epoch [380], val_loss: 8824.2812\n",
            "Epoch [400], val_loss: 8787.2871\n",
            "Epoch [420], val_loss: 8750.7656\n",
            "Epoch [440], val_loss: 8712.1201\n",
            "Epoch [460], val_loss: 8674.1797\n",
            "Epoch [480], val_loss: 8638.1768\n",
            "Epoch [500], val_loss: 8601.0518\n",
            "Epoch [520], val_loss: 8563.5957\n",
            "Epoch [540], val_loss: 8527.9023\n",
            "Epoch [560], val_loss: 8493.1279\n",
            "Epoch [580], val_loss: 8464.0820\n",
            "Epoch [600], val_loss: 8443.0605\n",
            "Epoch [620], val_loss: 8424.1611\n",
            "Epoch [640], val_loss: 8411.4307\n",
            "Epoch [660], val_loss: 8402.7998\n",
            "Epoch [680], val_loss: 8395.2021\n",
            "Epoch [700], val_loss: 8387.4111\n",
            "Epoch [720], val_loss: 8380.5508\n",
            "Epoch [740], val_loss: 8374.0439\n",
            "Epoch [760], val_loss: 8368.5840\n",
            "Epoch [780], val_loss: 8361.8535\n",
            "Epoch [800], val_loss: 8356.7246\n",
            "Epoch [820], val_loss: 8350.4863\n",
            "Epoch [840], val_loss: 8345.2363\n",
            "Epoch [860], val_loss: 8339.2568\n",
            "Epoch [880], val_loss: 8334.9219\n",
            "Epoch [900], val_loss: 8328.6201\n",
            "Epoch [920], val_loss: 8323.1494\n",
            "Epoch [940], val_loss: 8317.8682\n",
            "Epoch [960], val_loss: 8312.9453\n",
            "Epoch [980], val_loss: 8308.4951\n",
            "Epoch [1000], val_loss: 8303.7520\n"
          ],
          "name": "stdout"
        }
      ]
    },
    {
      "cell_type": "code",
      "metadata": {
        "ExecuteTime": {
          "end_time": "2020-12-11T18:12:22.851753Z",
          "start_time": "2020-12-11T18:11:51.852246Z"
        },
        "id": "COmdIDp6DBFv",
        "outputId": "ca666004-c7d4-4382-e639-97386575b6ea"
      },
      "source": [
        "epochs = 1000\n",
        "lr = 1e-2\n",
        "history2 = fit(epochs, lr, model, train_loader, val_loader)"
      ],
      "execution_count": null,
      "outputs": [
        {
          "output_type": "stream",
          "text": [
            "Epoch [20], val_loss: 8303.3574\n",
            "Epoch [40], val_loss: 8302.9209\n",
            "Epoch [60], val_loss: 8302.4746\n",
            "Epoch [80], val_loss: 8301.9941\n",
            "Epoch [100], val_loss: 8301.5635\n",
            "Epoch [120], val_loss: 8301.1152\n",
            "Epoch [140], val_loss: 8300.7031\n",
            "Epoch [160], val_loss: 8300.2520\n",
            "Epoch [180], val_loss: 8299.7480\n",
            "Epoch [200], val_loss: 8299.2949\n",
            "Epoch [220], val_loss: 8298.8887\n",
            "Epoch [240], val_loss: 8298.3857\n",
            "Epoch [260], val_loss: 8297.9346\n",
            "Epoch [280], val_loss: 8297.4824\n",
            "Epoch [300], val_loss: 8297.0391\n",
            "Epoch [320], val_loss: 8296.5820\n",
            "Epoch [340], val_loss: 8296.2207\n",
            "Epoch [360], val_loss: 8295.7207\n",
            "Epoch [380], val_loss: 8295.2305\n",
            "Epoch [400], val_loss: 8294.7754\n",
            "Epoch [420], val_loss: 8294.3398\n",
            "Epoch [440], val_loss: 8293.8662\n",
            "Epoch [460], val_loss: 8293.4238\n",
            "Epoch [480], val_loss: 8292.9570\n",
            "Epoch [500], val_loss: 8292.4922\n",
            "Epoch [520], val_loss: 8292.0820\n",
            "Epoch [540], val_loss: 8291.5908\n",
            "Epoch [560], val_loss: 8291.1182\n",
            "Epoch [580], val_loss: 8290.6641\n",
            "Epoch [600], val_loss: 8290.2656\n",
            "Epoch [620], val_loss: 8289.7490\n",
            "Epoch [640], val_loss: 8289.3125\n",
            "Epoch [660], val_loss: 8288.8359\n",
            "Epoch [680], val_loss: 8288.3584\n",
            "Epoch [700], val_loss: 8287.8721\n",
            "Epoch [720], val_loss: 8287.4883\n",
            "Epoch [740], val_loss: 8287.0430\n",
            "Epoch [760], val_loss: 8286.5234\n",
            "Epoch [780], val_loss: 8286.0029\n",
            "Epoch [800], val_loss: 8285.5840\n",
            "Epoch [820], val_loss: 8285.0996\n",
            "Epoch [840], val_loss: 8284.6387\n",
            "Epoch [860], val_loss: 8284.1689\n",
            "Epoch [880], val_loss: 8283.7529\n",
            "Epoch [900], val_loss: 8283.2402\n",
            "Epoch [920], val_loss: 8282.7520\n",
            "Epoch [940], val_loss: 8282.3457\n",
            "Epoch [960], val_loss: 8281.7793\n",
            "Epoch [980], val_loss: 8281.3105\n",
            "Epoch [1000], val_loss: 8280.8828\n"
          ],
          "name": "stdout"
        }
      ]
    },
    {
      "cell_type": "code",
      "metadata": {
        "ExecuteTime": {
          "end_time": "2020-12-11T18:13:07.445552Z",
          "start_time": "2020-12-11T18:12:36.077095Z"
        },
        "id": "jHffR1I2DBFv",
        "outputId": "48d99f7b-1a2a-48a2-bce9-ea4c9663a26c"
      },
      "source": [
        "epochs = 1000\n",
        "lr = 1e-2\n",
        "history3 = fit(epochs, lr, model, train_loader, val_loader)"
      ],
      "execution_count": null,
      "outputs": [
        {
          "output_type": "stream",
          "text": [
            "Epoch [20], val_loss: 8280.3965\n",
            "Epoch [40], val_loss: 8279.9434\n",
            "Epoch [60], val_loss: 8279.4766\n",
            "Epoch [80], val_loss: 8278.9814\n",
            "Epoch [100], val_loss: 8278.5449\n",
            "Epoch [120], val_loss: 8278.0703\n",
            "Epoch [140], val_loss: 8277.5586\n",
            "Epoch [160], val_loss: 8277.1211\n",
            "Epoch [180], val_loss: 8276.7324\n",
            "Epoch [200], val_loss: 8276.1465\n",
            "Epoch [220], val_loss: 8275.6816\n",
            "Epoch [240], val_loss: 8275.2646\n",
            "Epoch [260], val_loss: 8274.7949\n",
            "Epoch [280], val_loss: 8274.3691\n",
            "Epoch [300], val_loss: 8273.8721\n",
            "Epoch [320], val_loss: 8273.3965\n",
            "Epoch [340], val_loss: 8272.9971\n",
            "Epoch [360], val_loss: 8272.4307\n",
            "Epoch [380], val_loss: 8271.9648\n",
            "Epoch [400], val_loss: 8271.4854\n",
            "Epoch [420], val_loss: 8271.0195\n",
            "Epoch [440], val_loss: 8270.5352\n",
            "Epoch [460], val_loss: 8270.0664\n",
            "Epoch [480], val_loss: 8269.6094\n",
            "Epoch [500], val_loss: 8269.1299\n",
            "Epoch [520], val_loss: 8268.6025\n",
            "Epoch [540], val_loss: 8268.2031\n",
            "Epoch [560], val_loss: 8267.7305\n",
            "Epoch [580], val_loss: 8267.2812\n",
            "Epoch [600], val_loss: 8266.7969\n",
            "Epoch [620], val_loss: 8266.3623\n",
            "Epoch [640], val_loss: 8265.8867\n",
            "Epoch [660], val_loss: 8265.3809\n",
            "Epoch [680], val_loss: 8264.9307\n",
            "Epoch [700], val_loss: 8264.4238\n",
            "Epoch [720], val_loss: 8263.9336\n",
            "Epoch [740], val_loss: 8263.4727\n",
            "Epoch [760], val_loss: 8263.1162\n",
            "Epoch [780], val_loss: 8262.5859\n",
            "Epoch [800], val_loss: 8262.0430\n",
            "Epoch [820], val_loss: 8261.6074\n",
            "Epoch [840], val_loss: 8261.0684\n",
            "Epoch [860], val_loss: 8260.6777\n",
            "Epoch [880], val_loss: 8260.1592\n",
            "Epoch [900], val_loss: 8259.7119\n",
            "Epoch [920], val_loss: 8259.2148\n",
            "Epoch [940], val_loss: 8258.7402\n",
            "Epoch [960], val_loss: 8258.2852\n",
            "Epoch [980], val_loss: 8257.8115\n",
            "Epoch [1000], val_loss: 8257.3311\n"
          ],
          "name": "stdout"
        }
      ]
    },
    {
      "cell_type": "code",
      "metadata": {
        "ExecuteTime": {
          "end_time": "2020-12-11T18:14:26.551966Z",
          "start_time": "2020-12-11T18:13:55.427446Z"
        },
        "id": "H8HYzLNUDBFw",
        "outputId": "5fd33913-387c-42b2-8f9f-cb8b896fd386"
      },
      "source": [
        "epochs = 1000\n",
        "lr = 1e-1\n",
        "history4 = fit(epochs, lr, model, train_loader, val_loader)"
      ],
      "execution_count": null,
      "outputs": [
        {
          "output_type": "stream",
          "text": [
            "Epoch [20], val_loss: 8252.6113\n",
            "Epoch [40], val_loss: 8247.8711\n",
            "Epoch [60], val_loss: 8243.2471\n",
            "Epoch [80], val_loss: 8238.1777\n",
            "Epoch [100], val_loss: 8233.7246\n",
            "Epoch [120], val_loss: 8228.2500\n",
            "Epoch [140], val_loss: 8223.7480\n",
            "Epoch [160], val_loss: 8218.3447\n",
            "Epoch [180], val_loss: 8214.0352\n",
            "Epoch [200], val_loss: 8209.2217\n",
            "Epoch [220], val_loss: 8203.5254\n",
            "Epoch [240], val_loss: 8199.1562\n",
            "Epoch [260], val_loss: 8194.2949\n",
            "Epoch [280], val_loss: 8188.6572\n",
            "Epoch [300], val_loss: 8183.6245\n",
            "Epoch [320], val_loss: 8179.3613\n",
            "Epoch [340], val_loss: 8173.5322\n",
            "Epoch [360], val_loss: 8168.9619\n",
            "Epoch [380], val_loss: 8163.2412\n",
            "Epoch [400], val_loss: 8158.6963\n",
            "Epoch [420], val_loss: 8153.4570\n",
            "Epoch [440], val_loss: 8148.1123\n",
            "Epoch [460], val_loss: 8143.4756\n",
            "Epoch [480], val_loss: 8137.7505\n",
            "Epoch [500], val_loss: 8132.1543\n",
            "Epoch [520], val_loss: 8126.7305\n",
            "Epoch [540], val_loss: 8121.5947\n",
            "Epoch [560], val_loss: 8116.6167\n",
            "Epoch [580], val_loss: 8111.2549\n",
            "Epoch [600], val_loss: 8106.0029\n",
            "Epoch [620], val_loss: 8100.2495\n",
            "Epoch [640], val_loss: 8095.5713\n",
            "Epoch [660], val_loss: 8089.5400\n",
            "Epoch [680], val_loss: 8083.7686\n",
            "Epoch [700], val_loss: 8079.4385\n",
            "Epoch [720], val_loss: 8072.8096\n",
            "Epoch [740], val_loss: 8067.5938\n",
            "Epoch [760], val_loss: 8062.2041\n",
            "Epoch [780], val_loss: 8057.5898\n",
            "Epoch [800], val_loss: 8052.9531\n",
            "Epoch [820], val_loss: 8046.9946\n",
            "Epoch [840], val_loss: 8040.6572\n",
            "Epoch [860], val_loss: 8034.6582\n",
            "Epoch [880], val_loss: 8030.1748\n",
            "Epoch [900], val_loss: 8025.0542\n",
            "Epoch [920], val_loss: 8018.5879\n",
            "Epoch [940], val_loss: 8013.9604\n",
            "Epoch [960], val_loss: 8008.4727\n",
            "Epoch [980], val_loss: 8002.7812\n",
            "Epoch [1000], val_loss: 7997.6533\n"
          ],
          "name": "stdout"
        }
      ]
    },
    {
      "cell_type": "code",
      "metadata": {
        "ExecuteTime": {
          "end_time": "2020-12-11T18:16:11.542827Z",
          "start_time": "2020-12-11T18:14:45.137579Z"
        },
        "id": "5-SfhtKpDBFx",
        "outputId": "ecd2d367-6b83-4dad-a96c-38358930d600"
      },
      "source": [
        "epochs = 3000\n",
        "lr = 1e-1\n",
        "history5 = fit(epochs, lr, model, train_loader, val_loader)"
      ],
      "execution_count": null,
      "outputs": [
        {
          "output_type": "stream",
          "text": [
            "Epoch [20], val_loss: 7991.8281\n",
            "Epoch [40], val_loss: 7986.7236\n",
            "Epoch [60], val_loss: 7981.4375\n",
            "Epoch [80], val_loss: 7976.0381\n",
            "Epoch [100], val_loss: 7970.6963\n",
            "Epoch [120], val_loss: 7965.3818\n",
            "Epoch [140], val_loss: 7959.9482\n",
            "Epoch [160], val_loss: 7954.7988\n",
            "Epoch [180], val_loss: 7949.8052\n",
            "Epoch [200], val_loss: 7943.6592\n",
            "Epoch [220], val_loss: 7938.8936\n",
            "Epoch [240], val_loss: 7933.5713\n",
            "Epoch [260], val_loss: 7928.5068\n",
            "Epoch [280], val_loss: 7923.0371\n",
            "Epoch [300], val_loss: 7917.4453\n",
            "Epoch [320], val_loss: 7912.5288\n",
            "Epoch [340], val_loss: 7907.0244\n",
            "Epoch [360], val_loss: 7902.1997\n",
            "Epoch [380], val_loss: 7896.7793\n",
            "Epoch [400], val_loss: 7891.6294\n",
            "Epoch [420], val_loss: 7886.0059\n",
            "Epoch [440], val_loss: 7881.3071\n",
            "Epoch [460], val_loss: 7876.0718\n",
            "Epoch [480], val_loss: 7870.5562\n",
            "Epoch [500], val_loss: 7865.0830\n",
            "Epoch [520], val_loss: 7859.9849\n",
            "Epoch [540], val_loss: 7854.4590\n",
            "Epoch [560], val_loss: 7849.2183\n",
            "Epoch [580], val_loss: 7843.9824\n",
            "Epoch [600], val_loss: 7838.7383\n",
            "Epoch [620], val_loss: 7833.4546\n",
            "Epoch [640], val_loss: 7828.5322\n",
            "Epoch [660], val_loss: 7822.7275\n",
            "Epoch [680], val_loss: 7817.5186\n",
            "Epoch [700], val_loss: 7812.3496\n",
            "Epoch [720], val_loss: 7807.3867\n",
            "Epoch [740], val_loss: 7801.6191\n",
            "Epoch [760], val_loss: 7796.6611\n",
            "Epoch [780], val_loss: 7791.2891\n",
            "Epoch [800], val_loss: 7786.6104\n",
            "Epoch [820], val_loss: 7780.9414\n",
            "Epoch [840], val_loss: 7776.0977\n",
            "Epoch [860], val_loss: 7771.2539\n",
            "Epoch [880], val_loss: 7765.0161\n",
            "Epoch [900], val_loss: 7760.1680\n",
            "Epoch [920], val_loss: 7754.1909\n",
            "Epoch [940], val_loss: 7748.6436\n",
            "Epoch [960], val_loss: 7743.5801\n",
            "Epoch [980], val_loss: 7738.1387\n",
            "Epoch [1000], val_loss: 7733.0791\n",
            "Epoch [1020], val_loss: 7727.5645\n",
            "Epoch [1040], val_loss: 7722.7266\n",
            "Epoch [1060], val_loss: 7716.7207\n",
            "Epoch [1080], val_loss: 7711.8564\n",
            "Epoch [1100], val_loss: 7706.3071\n",
            "Epoch [1120], val_loss: 7700.9106\n",
            "Epoch [1140], val_loss: 7695.7856\n",
            "Epoch [1160], val_loss: 7691.1338\n",
            "Epoch [1180], val_loss: 7686.0894\n",
            "Epoch [1200], val_loss: 7679.7363\n",
            "Epoch [1220], val_loss: 7675.4360\n",
            "Epoch [1240], val_loss: 7669.2520\n",
            "Epoch [1260], val_loss: 7664.1709\n",
            "Epoch [1280], val_loss: 7659.7705\n",
            "Epoch [1300], val_loss: 7654.0259\n",
            "Epoch [1320], val_loss: 7649.2129\n",
            "Epoch [1340], val_loss: 7643.7363\n",
            "Epoch [1360], val_loss: 7638.8008\n",
            "Epoch [1380], val_loss: 7633.9248\n",
            "Epoch [1400], val_loss: 7628.4502\n",
            "Epoch [1420], val_loss: 7623.1260\n",
            "Epoch [1440], val_loss: 7617.5991\n",
            "Epoch [1460], val_loss: 7612.3008\n",
            "Epoch [1480], val_loss: 7607.3794\n",
            "Epoch [1500], val_loss: 7602.0723\n",
            "Epoch [1520], val_loss: 7597.7129\n",
            "Epoch [1540], val_loss: 7592.2490\n",
            "Epoch [1560], val_loss: 7586.9722\n",
            "Epoch [1580], val_loss: 7581.6846\n",
            "Epoch [1600], val_loss: 7576.5732\n",
            "Epoch [1620], val_loss: 7570.8296\n",
            "Epoch [1640], val_loss: 7565.3960\n",
            "Epoch [1660], val_loss: 7560.3584\n",
            "Epoch [1680], val_loss: 7555.0479\n",
            "Epoch [1700], val_loss: 7550.6953\n",
            "Epoch [1720], val_loss: 7545.2998\n",
            "Epoch [1740], val_loss: 7540.6597\n",
            "Epoch [1760], val_loss: 7534.9380\n",
            "Epoch [1780], val_loss: 7529.9727\n",
            "Epoch [1800], val_loss: 7524.3428\n",
            "Epoch [1820], val_loss: 7519.3867\n",
            "Epoch [1840], val_loss: 7514.4229\n",
            "Epoch [1860], val_loss: 7508.8823\n",
            "Epoch [1880], val_loss: 7503.6821\n",
            "Epoch [1900], val_loss: 7498.3843\n",
            "Epoch [1920], val_loss: 7493.2490\n",
            "Epoch [1940], val_loss: 7488.6494\n",
            "Epoch [1960], val_loss: 7483.9028\n",
            "Epoch [1980], val_loss: 7478.3657\n",
            "Epoch [2000], val_loss: 7473.3804\n",
            "Epoch [2020], val_loss: 7468.0977\n",
            "Epoch [2040], val_loss: 7462.8667\n",
            "Epoch [2060], val_loss: 7457.9004\n",
            "Epoch [2080], val_loss: 7452.7925\n",
            "Epoch [2100], val_loss: 7448.5874\n",
            "Epoch [2120], val_loss: 7442.8584\n",
            "Epoch [2140], val_loss: 7437.1299\n",
            "Epoch [2160], val_loss: 7431.9980\n",
            "Epoch [2180], val_loss: 7426.2495\n",
            "Epoch [2200], val_loss: 7421.4458\n",
            "Epoch [2220], val_loss: 7416.3926\n",
            "Epoch [2240], val_loss: 7410.5332\n",
            "Epoch [2260], val_loss: 7405.5850\n",
            "Epoch [2280], val_loss: 7400.9072\n",
            "Epoch [2300], val_loss: 7395.7090\n",
            "Epoch [2320], val_loss: 7390.6094\n",
            "Epoch [2340], val_loss: 7384.8262\n",
            "Epoch [2360], val_loss: 7380.0693\n",
            "Epoch [2380], val_loss: 7375.2627\n",
            "Epoch [2400], val_loss: 7370.0752\n",
            "Epoch [2420], val_loss: 7364.6670\n",
            "Epoch [2440], val_loss: 7360.4775\n",
            "Epoch [2460], val_loss: 7354.4434\n",
            "Epoch [2480], val_loss: 7349.0352\n",
            "Epoch [2500], val_loss: 7343.6489\n",
            "Epoch [2520], val_loss: 7339.8779\n",
            "Epoch [2540], val_loss: 7334.4492\n",
            "Epoch [2560], val_loss: 7329.3647\n",
            "Epoch [2580], val_loss: 7323.4932\n",
            "Epoch [2600], val_loss: 7319.1309\n",
            "Epoch [2620], val_loss: 7314.4414\n",
            "Epoch [2640], val_loss: 7308.2549\n",
            "Epoch [2660], val_loss: 7302.6763\n",
            "Epoch [2680], val_loss: 7298.1152\n",
            "Epoch [2700], val_loss: 7292.5518\n",
            "Epoch [2720], val_loss: 7288.2573\n",
            "Epoch [2740], val_loss: 7282.8945\n",
            "Epoch [2760], val_loss: 7277.7119\n",
            "Epoch [2780], val_loss: 7272.4639\n",
            "Epoch [2800], val_loss: 7267.0146\n",
            "Epoch [2820], val_loss: 7261.8311\n",
            "Epoch [2840], val_loss: 7256.6230\n",
            "Epoch [2860], val_loss: 7251.5264\n",
            "Epoch [2880], val_loss: 7246.4033\n",
            "Epoch [2900], val_loss: 7241.6279\n",
            "Epoch [2920], val_loss: 7236.2847\n",
            "Epoch [2940], val_loss: 7232.0396\n",
            "Epoch [2960], val_loss: 7227.1963\n",
            "Epoch [2980], val_loss: 7221.6152\n",
            "Epoch [3000], val_loss: 7215.9287\n"
          ],
          "name": "stdout"
        }
      ]
    },
    {
      "cell_type": "markdown",
      "metadata": {
        "id": "npnNjcRpDBFx"
      },
      "source": [
        "#### Q: What is the final validation loss of your model?"
      ]
    },
    {
      "cell_type": "code",
      "metadata": {
        "ExecuteTime": {
          "end_time": "2020-12-11T18:16:22.755417Z",
          "start_time": "2020-12-11T18:16:22.748420Z"
        },
        "id": "QFPphSKhDBFy",
        "outputId": "da2ae3c8-d370-43f2-f20f-c034bf19350a"
      },
      "source": [
        "val_loss = history5[-1]['val_loss']\n",
        "val_loss"
      ],
      "execution_count": null,
      "outputs": [
        {
          "output_type": "execute_result",
          "data": {
            "text/plain": [
              "7215.9287109375"
            ]
          },
          "metadata": {
            "tags": []
          },
          "execution_count": 58
        }
      ]
    },
    {
      "cell_type": "markdown",
      "metadata": {
        "id": "BRuQsifQDBFy"
      },
      "source": [
        "Let's log the final validation loss to Jovian and commit the notebook"
      ]
    },
    {
      "cell_type": "code",
      "metadata": {
        "ExecuteTime": {
          "end_time": "2020-12-11T18:16:48.331444Z",
          "start_time": "2020-12-11T18:16:47.775370Z"
        },
        "id": "kraBo1yRDBFz",
        "outputId": "2000ef67-6927-4ba9-a950-b51b2fcbf3d6"
      },
      "source": [
        "jovian.log_metrics(val_loss=val_loss)"
      ],
      "execution_count": null,
      "outputs": [
        {
          "output_type": "stream",
          "text": [
            "[jovian] Metrics logged.\n"
          ],
          "name": "stdout"
        }
      ]
    },
    {
      "cell_type": "code",
      "metadata": {
        "ExecuteTime": {
          "end_time": "2020-12-11T18:17:06.815440Z",
          "start_time": "2020-12-11T18:17:00.598044Z"
        },
        "id": "44PJLrH4DBFz",
        "outputId": "0ba803ec-0639-4270-eb0e-ded5dd1ee28b"
      },
      "source": [
        "jovian.commit(project=project_name, environment=None)"
      ],
      "execution_count": null,
      "outputs": [
        {
          "output_type": "display_data",
          "data": {
            "application/javascript": [
              "window.require && require([\"base/js/namespace\"],function(Jupyter){Jupyter.notebook.save_checkpoint()})"
            ],
            "text/plain": [
              "<IPython.core.display.Javascript object>"
            ]
          },
          "metadata": {
            "tags": []
          }
        },
        {
          "output_type": "stream",
          "text": [
            "[jovian] Attempting to save notebook..\n",
            "[jovian] Updating notebook \"ashokdhakad/assignment-2\" on https://jovian.ai/\n",
            "[jovian] Uploading notebook..\n",
            "[jovian] Attaching records (metrics, hyperparameters, dataset etc.)\n",
            "[jovian] Committed successfully! https://jovian.ai/ashokdhakad/assignment-2\n"
          ],
          "name": "stdout"
        },
        {
          "output_type": "execute_result",
          "data": {
            "text/plain": [
              "'https://jovian.ai/ashokdhakad/assignment-2'"
            ]
          },
          "metadata": {
            "tags": []
          },
          "execution_count": 60
        }
      ]
    },
    {
      "cell_type": "markdown",
      "metadata": {
        "id": "p_csIvw7DBF0"
      },
      "source": [
        "Now scroll back up, re-initialize the model, and try different set of values for batch size, number of epochs, learning rate etc. Commit each experiment and use the \"Compare\" and \"View Diff\" options on Jovian to compare the different results."
      ]
    },
    {
      "cell_type": "markdown",
      "metadata": {
        "ExecuteTime": {
          "end_time": "2020-12-11T18:17:37.288256Z",
          "start_time": "2020-12-11T18:17:37.280260Z"
        },
        "id": "5KNLiCJYDBF0"
      },
      "source": [
        "## Step 5: Make predictions using the trained model\n",
        "\n",
        "**Q: Complete the following function definition to make predictions on a single input**"
      ]
    },
    {
      "cell_type": "code",
      "metadata": {
        "ExecuteTime": {
          "end_time": "2020-12-11T18:17:55.518655Z",
          "start_time": "2020-12-11T18:17:55.510656Z"
        },
        "id": "we6svZWGDBF1"
      },
      "source": [
        "def predict_single(input, target, model):\n",
        "    inputs = input.unsqueeze(0)\n",
        "    predictions = model(input)                # fill this\n",
        "    prediction = predictions[0].detach()\n",
        "    print(\"Input:\", input)\n",
        "    print(\"Target:\", target)\n",
        "    print(\"Prediction:\", prediction)"
      ],
      "execution_count": null,
      "outputs": []
    },
    {
      "cell_type": "code",
      "metadata": {
        "ExecuteTime": {
          "end_time": "2020-12-11T18:18:06.370152Z",
          "start_time": "2020-12-11T18:18:06.073959Z"
        },
        "id": "1PMYDONvDBF1",
        "outputId": "84d684da-17d6-4e87-ceb0-f2dc046e1c12"
      },
      "source": [
        "input, target = val_ds[0]\n",
        "predict_single(input, target, model)"
      ],
      "execution_count": null,
      "outputs": [
        {
          "output_type": "stream",
          "text": [
            "Input: tensor([18.0000,  1.0000, 38.5653,  0.0000,  1.0000])\n",
            "Target: tensor([36002.5547])\n",
            "Prediction: tensor(6181.1362)\n"
          ],
          "name": "stdout"
        }
      ]
    },
    {
      "cell_type": "code",
      "metadata": {
        "ExecuteTime": {
          "end_time": "2020-12-11T18:18:22.371692Z",
          "start_time": "2020-12-11T18:18:22.348706Z"
        },
        "id": "wr3gUb7BDBF2",
        "outputId": "7ee9808c-7f46-45a9-b987-938f8e84f544"
      },
      "source": [
        "input, target = val_ds[10]\n",
        "predict_single(input, target, model)"
      ],
      "execution_count": null,
      "outputs": [
        {
          "output_type": "stream",
          "text": [
            "Input: tensor([23.0000,  1.0000, 19.9928,  1.0000,  0.0000])\n",
            "Target: tensor([2886.2000])\n",
            "Prediction: tensor(3449.5928)\n"
          ],
          "name": "stdout"
        }
      ]
    },
    {
      "cell_type": "markdown",
      "metadata": {
        "id": "hdg0H52CDBF2"
      },
      "source": [
        "Are you happy with your model's predictions? Try to improve them further."
      ]
    },
    {
      "cell_type": "markdown",
      "metadata": {
        "ExecuteTime": {
          "end_time": "2020-12-11T18:19:01.397577Z",
          "start_time": "2020-12-11T18:19:01.377589Z"
        },
        "id": "E3i-wGM9DBF3"
      },
      "source": [
        "## (Optional) Step 6: Try another dataset & blog about it\n",
        "\n",
        "While this last step is optional for the submission of your assignment, we highly recommend that you do it. Try to replicate this notebook for a different linear regression or logistic regression problem. This will help solidify your understanding, and give you a chance to differentiate the generic patterns in machine learning from problem-specific details.You can use one of these starer notebooks (just change the dataset):\n",
        "\n",
        "- Linear regression (minimal): https://jovian.ai/aakashns/housing-linear-minimal\n",
        "- Logistic regression (minimal): https://jovian.ai/aakashns/mnist-logistic-minimal\n",
        "\n",
        "Here are some sources to find good datasets:\n",
        "\n",
        "- https://lionbridge.ai/datasets/10-open-datasets-for-linear-regression/\n",
        "- https://www.kaggle.com/rtatman/datasets-for-regression-analysis\n",
        "- https://archive.ics.uci.edu/ml/datasets.php?format=&task=reg&att=&area=&numAtt=&numIns=&type=&sort=nameUp&view=table\n",
        "- https://people.sc.fsu.edu/~jburkardt/datasets/regression/regression.html\n",
        "- https://archive.ics.uci.edu/ml/datasets/wine+quality\n",
        "- https://pytorch.org/docs/stable/torchvision/datasets.html\n",
        "\n",
        "We also recommend that you write a blog about your approach to the problem. Here is a suggested structure for your post (feel free to experiment with it):\n",
        "\n",
        "- Interesting title & subtitle\n",
        "- Overview of what the blog covers (which dataset, linear regression or logistic regression, intro to PyTorch)\n",
        "- Downloading & exploring the data\n",
        "- Preparing the data for training\n",
        "- Creating a model using PyTorch\n",
        "- Training the model to fit the data\n",
        "- Your thoughts on how to experiment with different hyperparmeters to reduce loss\n",
        "- Making predictions using the model\n",
        "\n",
        "As with the previous assignment, you can [embed Juptyer notebook cells & outputs from Jovian](https://medium.com/jovianml/share-and-embed-jupyter-notebooks-online-with-jovian-ml-df709a03064e) into your blog. \n",
        "\n",
        "Don't forget to share your work on the forum: https://jovian.ai/forum/t/linear-regression-and-logistic-regression-notebooks-and-blog-posts/14039"
      ]
    },
    {
      "cell_type": "code",
      "metadata": {
        "ExecuteTime": {
          "end_time": "2020-12-11T18:20:20.535530Z",
          "start_time": "2020-12-11T18:20:03.910806Z"
        },
        "scrolled": true,
        "id": "K97KAPZkDBF4",
        "outputId": "5c4edfda-3fb4-45b1-bd9f-8d0829d474bb"
      },
      "source": [
        "jovian.commit(project=project_name, environment=None)\n",
        "jovian.commit(project=project_name, environment=None) # try again, kaggle fails sometimes"
      ],
      "execution_count": null,
      "outputs": [
        {
          "output_type": "display_data",
          "data": {
            "application/javascript": [
              "window.require && require([\"base/js/namespace\"],function(Jupyter){Jupyter.notebook.save_checkpoint()})"
            ],
            "text/plain": [
              "<IPython.core.display.Javascript object>"
            ]
          },
          "metadata": {
            "tags": []
          }
        },
        {
          "output_type": "stream",
          "text": [
            "[jovian] Attempting to save notebook..\n",
            "[jovian] Updating notebook \"ashokdhakad/assignment-2\" on https://jovian.ai/\n",
            "[jovian] Uploading notebook..\n",
            "[jovian] Attaching records (metrics, hyperparameters, dataset etc.)\n",
            "[jovian] Committed successfully! https://jovian.ai/ashokdhakad/assignment-2\n"
          ],
          "name": "stdout"
        },
        {
          "output_type": "display_data",
          "data": {
            "application/javascript": [
              "window.require && require([\"base/js/namespace\"],function(Jupyter){Jupyter.notebook.save_checkpoint()})"
            ],
            "text/plain": [
              "<IPython.core.display.Javascript object>"
            ]
          },
          "metadata": {
            "tags": []
          }
        },
        {
          "output_type": "stream",
          "text": [
            "[jovian] Attempting to save notebook..\n",
            "[jovian] Updating notebook \"ashokdhakad/assignment-2\" on https://jovian.ai/\n",
            "[jovian] Uploading notebook..\n",
            "[jovian] Attaching records (metrics, hyperparameters, dataset etc.)\n",
            "[jovian] Committed successfully! https://jovian.ai/ashokdhakad/assignment-2\n"
          ],
          "name": "stdout"
        },
        {
          "output_type": "execute_result",
          "data": {
            "text/plain": [
              "'https://jovian.ai/ashokdhakad/assignment-2'"
            ]
          },
          "metadata": {
            "tags": []
          },
          "execution_count": 66
        }
      ]
    },
    {
      "cell_type": "code",
      "metadata": {
        "ExecuteTime": {
          "end_time": "2020-12-11T18:21:02.744814Z",
          "start_time": "2020-12-11T18:20:42.330936Z"
        },
        "id": "y9ajwixBDBF5",
        "outputId": "e5a0d4ad-c2c4-493d-d4bb-edc85b758e00"
      },
      "source": [
        "jovian.submit(project='my-project',assignment=\"zerotogans-a2\")"
      ],
      "execution_count": null,
      "outputs": [
        {
          "output_type": "display_data",
          "data": {
            "application/javascript": [
              "window.require && require([\"base/js/namespace\"],function(Jupyter){Jupyter.notebook.save_checkpoint()})"
            ],
            "text/plain": [
              "<IPython.core.display.Javascript object>"
            ]
          },
          "metadata": {
            "tags": []
          }
        },
        {
          "output_type": "stream",
          "text": [
            "[jovian] Attempting to save notebook..\n",
            "[jovian] Updating notebook \"ashokdhakad/my-project\" on https://jovian.ai/\n",
            "[jovian] Uploading notebook..\n",
            "[jovian] Capturing environment..\n",
            "[jovian] Attaching records (metrics, hyperparameters, dataset etc.)\n",
            "[jovian] Committed successfully! https://jovian.ai/ashokdhakad/my-project\n",
            "[jovian] Submitting assignment..\n",
            "[jovian] Verify your submission at https://jovian.ai/learn/deep-learning-with-pytorch-zero-to-gans/assignment/assignment-2-train-your-first-model\n"
          ],
          "name": "stdout"
        }
      ]
    },
    {
      "cell_type": "code",
      "metadata": {
        "id": "JEDrG1zZDBF6"
      },
      "source": [
        ""
      ],
      "execution_count": null,
      "outputs": []
    }
  ]
}