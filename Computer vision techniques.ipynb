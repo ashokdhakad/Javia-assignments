{
 "cells": [
  {
   "cell_type": "markdown",
   "metadata": {},
   "source": [
    "# Thresholding"
   ]
  },
  {
   "cell_type": "code",
   "execution_count": 1,
   "metadata": {
    "ExecuteTime": {
     "end_time": "2020-09-04T17:04:56.672124Z",
     "start_time": "2020-09-04T17:04:29.770780Z"
    }
   },
   "outputs": [],
   "source": [
    "import cv2\n",
    "\n",
    "#reading image from computer\n",
    "img= cv2.imread('a.jpg')\n",
    "\n",
    "#resizing image to make it smaller\n",
    "img = cv2.resize(img,(320,240))\n",
    "\n",
    "#Converting color image to grayscale\n",
    "gray_img = cv2.cvtColor(img,cv2.COLOR_BGR2GRAY)\n",
    "\n",
    "#Apllying threshold to the gray image\n",
    "ret,thresh1 = cv2.threshold(gray_img, 125, 255, cv2.THRESH_BINARY)\n",
    "ret, thresh2 = cv2.threshold(gray_img, 125, 255, cv2.THRESH_BINARY_INV)\n",
    "ret, thresh3 = cv2.threshold(gray_img, 125, 255, cv2.THRESH_TRUNC)\n",
    "ret, thresh4 = cv2.threshold(gray_img, 125, 255, cv2.THRESH_TOZERO)\n",
    "ret, thresh5 = cv2.threshold(gray_img, 125, 255, cv2.THRESH_TOZERO_INV)\n",
    "\n",
    "\n",
    "#Displaying resultant images\n",
    "cv2.imshow('Original Image', img)\n",
    "cv2.imshow('Binary Threshold', thresh1)\n",
    "cv2.imshow('Binary Threshold Inverted', thresh2)\n",
    "cv2.imshow('Truncated Threshold', thresh3)\n",
    "cv2.imshow('Set to 0', thresh4)\n",
    "cv2.imshow('Set to 0 Inverted', thresh5)\n",
    "\n",
    "\n",
    "#Wait for user to press key for exit\n",
    "cv2.waitKey(0)\n",
    "cv2.destroyAllWindows()"
   ]
  },
  {
   "cell_type": "markdown",
   "metadata": {
    "ExecuteTime": {
     "end_time": "2020-09-04T17:09:08.262874Z",
     "start_time": "2020-09-04T17:09:08.255883Z"
    }
   },
   "source": [
    "# Blurring and Smoothing images"
   ]
  },
  {
   "cell_type": "code",
   "execution_count": 4,
   "metadata": {
    "ExecuteTime": {
     "end_time": "2020-09-04T17:13:55.766807Z",
     "start_time": "2020-09-04T17:13:38.099265Z"
    }
   },
   "outputs": [
    {
     "ename": "AttributeError",
     "evalue": "module 'cv2.cv2' has no attribute 'destoryAllWindows'",
     "output_type": "error",
     "traceback": [
      "\u001b[1;31m---------------------------------------------------------------------------\u001b[0m",
      "\u001b[1;31mAttributeError\u001b[0m                            Traceback (most recent call last)",
      "\u001b[1;32m<ipython-input-4-a014b1816cf5>\u001b[0m in \u001b[0;36m<module>\u001b[1;34m\u001b[0m\n\u001b[0;32m     22\u001b[0m \u001b[1;31m#waits for a user to press key for exit\u001b[0m\u001b[1;33m\u001b[0m\u001b[1;33m\u001b[0m\u001b[1;33m\u001b[0m\u001b[0m\n\u001b[0;32m     23\u001b[0m \u001b[0mcv2\u001b[0m\u001b[1;33m.\u001b[0m\u001b[0mwaitKey\u001b[0m\u001b[1;33m(\u001b[0m\u001b[1;36m0\u001b[0m\u001b[1;33m)\u001b[0m\u001b[1;33m\u001b[0m\u001b[1;33m\u001b[0m\u001b[0m\n\u001b[1;32m---> 24\u001b[1;33m \u001b[0mcv2\u001b[0m\u001b[1;33m.\u001b[0m\u001b[0mdestoryAllWindows\u001b[0m\u001b[1;33m(\u001b[0m\u001b[1;33m)\u001b[0m\u001b[1;33m\u001b[0m\u001b[1;33m\u001b[0m\u001b[0m\n\u001b[0m",
      "\u001b[1;31mAttributeError\u001b[0m: module 'cv2.cv2' has no attribute 'destoryAllWindows'"
     ]
    }
   ],
   "source": [
    "import cv2\n",
    "\n",
    "#Reading image from disk\n",
    "dog = cv2.imread('a.jpg')\n",
    "\n",
    "#Resizing image to make it smaller\n",
    "dog = cv2.resize(dog,(300,280))\n",
    "\n",
    "#Applying different blur functions with 7*7 filter\n",
    "img_0 = cv2.blur(dog, ksize = (7, 7))\n",
    "img_1 = cv2.GaussianBlur(dog, (7, 7), 0)\n",
    "img_2 = cv2.medianBlur(dog, 7)\n",
    "img_3 = cv2.bilateralFilter(dog, 7, 75, 75)\n",
    "\n",
    "#Displaying resultant images\n",
    "cv2.imshow('Original', dog)\n",
    "cv2.imshow('Blur', img_0)\n",
    "cv2.imshow('Gaussian Blur', img_1)\n",
    "cv2.imshow('Median Blur', img_2)\n",
    "cv2.imshow('Bilateral Filter', img_3)\n",
    "\n",
    "#waits for a user to press key for exit\n",
    "cv2.waitKey(0)\n",
    "cv2.destoryAllWindows()"
   ]
  },
  {
   "cell_type": "markdown",
   "metadata": {},
   "source": [
    "# Color Filtering"
   ]
  },
  {
   "cell_type": "code",
   "execution_count": 6,
   "metadata": {
    "ExecuteTime": {
     "end_time": "2020-09-04T17:18:15.700676Z",
     "start_time": "2020-09-04T17:18:14.252834Z"
    }
   },
   "outputs": [],
   "source": [
    "import cv2\n",
    "import numpy as np\n",
    "\n",
    "#Reading images from local disk\n",
    "img = cv2.imread('a.jpg')\n",
    "\n",
    "#Resizing image to make it smaller(optional)\n",
    "img = cv2.resize(img, (320,240))\n",
    "\n",
    "#Defining lower and upper range for color we want to extract(hsv format)\n",
    "lower_orange = np.array([8, 100, 50])\n",
    "upper_orange = np.array([15, 255, 255])\n",
    "\n",
    "#Converting image from BGR to HSV format\n",
    "hsv_img = cv2.cvtColor(img,cv2.COLOR_BGR2HSV)\n",
    "\n",
    "#cv2.inRange() function gives us the mask having colors within the specified lower and upper range\n",
    "mask = cv2.inRange(hsv_img, lower_orange, upper_orange)\n",
    "\n",
    "#cv2.bitwise_and() function performs bitwise and operation on pixels of original image and mask\n",
    "res = cv2.bitwise_and(img, img, mask=mask)\n",
    "\n",
    "#Displaying all the output images\n",
    "cv2.imshow('Original',img)\n",
    "cv2.imshow('mask',mask)\n",
    "cv2.imshow('res',res)\n",
    "\n",
    "#Waiting for user to press key for exit\n",
    "cv2.waitKey(0)\n",
    "cv2.destroyAllWindows()"
   ]
  },
  {
   "cell_type": "markdown",
   "metadata": {},
   "source": [
    "# Edge Detection"
   ]
  },
  {
   "cell_type": "code",
   "execution_count": 7,
   "metadata": {
    "ExecuteTime": {
     "end_time": "2020-09-04T17:19:15.300265Z",
     "start_time": "2020-09-04T17:19:03.650941Z"
    }
   },
   "outputs": [],
   "source": [
    "import cv2\n",
    "\n",
    "#load image\n",
    "img = cv2.imread('a.jpg')\n",
    "\n",
    "#resizing image\n",
    "img = cv2.resize(img, (420,300))\n",
    "\n",
    "#applying canny edge detection algorithm\n",
    "canny = cv2.Canny(img,50,150)\n",
    "\n",
    "#displaying results\n",
    "cv2.imshow('image',img)\n",
    "cv2.imshow('canny',canny)\n",
    "\n",
    "#destroy all windows\n",
    "cv2.waitKey(0)\n",
    "cv2.destroyAllWindows()"
   ]
  },
  {
   "cell_type": "code",
   "execution_count": null,
   "metadata": {},
   "outputs": [],
   "source": []
  }
 ],
 "metadata": {
  "kernelspec": {
   "display_name": "Python 3",
   "language": "python",
   "name": "python3"
  },
  "language_info": {
   "codemirror_mode": {
    "name": "ipython",
    "version": 3
   },
   "file_extension": ".py",
   "mimetype": "text/x-python",
   "name": "python",
   "nbconvert_exporter": "python",
   "pygments_lexer": "ipython3",
   "version": "3.7.3"
  }
 },
 "nbformat": 4,
 "nbformat_minor": 2
}
